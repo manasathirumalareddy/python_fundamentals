{
  "nbformat": 4,
  "nbformat_minor": 0,
  "metadata": {
    "colab": {
      "provenance": [],
      "authorship_tag": "ABX9TyN9enbrCV4XV3I/Jbl0xHJu",
      "include_colab_link": true
    },
    "kernelspec": {
      "name": "python3",
      "display_name": "Python 3"
    },
    "language_info": {
      "name": "python"
    }
  },
  "cells": [
    {
      "cell_type": "markdown",
      "metadata": {
        "id": "view-in-github",
        "colab_type": "text"
      },
      "source": [
        "<a href=\"https://colab.research.google.com/github/manasathirumalareddy/manasathirumalareddy/blob/main/class_10%2C11.ipynb\" target=\"_parent\"><img src=\"https://colab.research.google.com/assets/colab-badge.svg\" alt=\"Open In Colab\"/></a>"
      ]
    },
    {
      "cell_type": "markdown",
      "source": [
        "# class 10 data types\n",
        "none,numeric,*list,tuple,set,string,range(sequence),*dictionary/map.**None**:a variable not assigned any value.**Numeric:**4 types int,float,complex,bool.complex means a+bj ex:6+9j,j represented by square root -1.complex means number and + or - imaginary number.boollian type means true or false.true means 1 and false means 0.lst=[23,45,67],**range **will give the values upto the last number.range will contain 3 values to give odd number or even from till the number.mapping has keys having values.in dictionary ex:d={'navin':'samsung','rahul':'iphone','kiran':'oneplus'}.\n",
        "we use square brackets in specifying key to get value.d['rahul']or d.get('kiran').\n"
      ],
      "metadata": {
        "id": "33aAdE3UtnN9"
      }
    },
    {
      "cell_type": "code",
      "source": [
        "range(0,10)\n",
        "list(range(10))"
      ],
      "metadata": {
        "colab": {
          "base_uri": "https://localhost:8080/"
        },
        "id": "cY5fl-kTd5X-",
        "outputId": "c71fab02-6752-4d89-f818-86076d7319ba"
      },
      "execution_count": null,
      "outputs": [
        {
          "output_type": "execute_result",
          "data": {
            "text/plain": [
              "[0, 1, 2, 3, 4, 5, 6, 7, 8, 9]"
            ]
          },
          "metadata": {},
          "execution_count": 1
        }
      ]
    },
    {
      "cell_type": "code",
      "source": [
        "list(range(2,10,2))"
      ],
      "metadata": {
        "colab": {
          "base_uri": "https://localhost:8080/"
        },
        "id": "4K6A-k6ueVUo",
        "outputId": "e8bcbdd2-22cd-4197-9b1b-cdd52d3ee589"
      },
      "execution_count": null,
      "outputs": [
        {
          "output_type": "execute_result",
          "data": {
            "text/plain": [
              "[2, 4, 6, 8]"
            ]
          },
          "metadata": {},
          "execution_count": 2
        }
      ]
    },
    {
      "cell_type": "markdown",
      "source": [
        "# class 11 operators\n",
        "arithmatic operators,assignment operators,relational operators,logical operators,unary operator.**arithmatic** means add,sub,mul,div,modlus.**assignment** means equal to = ex:x=x+2 then x is 4.unary operator can give negative sign by giving -.**relational **operators when comparing two variables we should give == symbol to relate or compare the values <=,>=,!=,==.**logical** operators(and,or,not)\n",
        "truth table for and , or\n",
        "x y c               x y c         \n",
        "0 0 0               0 0 0\n",
        "0 1 0               0 1 1\n",
        "1 0 0               1 0 1\n",
        "1 1 1               1 1 1\n",
        "not will give reverse to output.\n",
        "x=true\n",
        "x\n",
        "true\n",
        "not x\n",
        "false\n",
        "x=not x\n",
        "x\n",
        "false\n",
        "\n",
        "\n",
        "\n"
      ],
      "metadata": {
        "id": "3OO4lzNoifbX"
      }
    },
    {
      "cell_type": "code",
      "source": [
        "x=2\n",
        "y=3\n",
        "x=x+2\n",
        "x\n"
      ],
      "metadata": {
        "colab": {
          "base_uri": "https://localhost:8080/"
        },
        "id": "N4xmMeXikLDh",
        "outputId": "92b73989-748e-45d7-b590-206c6631978b"
      },
      "execution_count": null,
      "outputs": [
        {
          "output_type": "execute_result",
          "data": {
            "text/plain": [
              "4"
            ]
          },
          "metadata": {},
          "execution_count": 4
        }
      ]
    },
    {
      "cell_type": "code",
      "source": [
        "x=2\n",
        "y=3\n",
        "x=x+2\n",
        "x +=2\n",
        "x"
      ],
      "metadata": {
        "colab": {
          "base_uri": "https://localhost:8080/"
        },
        "id": "KkuVdIqLkhLB",
        "outputId": "dffb03c0-8593-478a-c683-c3d1acd310ba"
      },
      "execution_count": null,
      "outputs": [
        {
          "output_type": "execute_result",
          "data": {
            "text/plain": [
              "6"
            ]
          },
          "metadata": {},
          "execution_count": 5
        }
      ]
    },
    {
      "cell_type": "code",
      "source": [
        "a,b=5,6\n",
        "a"
      ],
      "metadata": {
        "colab": {
          "base_uri": "https://localhost:8080/"
        },
        "id": "TTbzitGV3zN_",
        "outputId": "45ad480f-9351-448e-d4fd-d97cc6e8193d"
      },
      "execution_count": null,
      "outputs": [
        {
          "output_type": "execute_result",
          "data": {
            "text/plain": [
              "5"
            ]
          },
          "metadata": {},
          "execution_count": 6
        }
      ]
    },
    {
      "cell_type": "code",
      "source": [
        "a,b=5,6\n",
        "b"
      ],
      "metadata": {
        "colab": {
          "base_uri": "https://localhost:8080/"
        },
        "id": "f82nj22j34ii",
        "outputId": "f3f22129-6a2d-4ba5-b82c-e1f4cf3c2e54"
      },
      "execution_count": null,
      "outputs": [
        {
          "output_type": "execute_result",
          "data": {
            "text/plain": [
              "6"
            ]
          },
          "metadata": {},
          "execution_count": 7
        }
      ]
    },
    {
      "cell_type": "code",
      "source": [
        "a=5\n",
        "b=4\n",
        "a<8 and b<5\n"
      ],
      "metadata": {
        "colab": {
          "base_uri": "https://localhost:8080/"
        },
        "id": "GbCfm7Xx56xS",
        "outputId": "341e8e1c-1272-4917-d098-d25138f8dc21"
      },
      "execution_count": null,
      "outputs": [
        {
          "output_type": "execute_result",
          "data": {
            "text/plain": [
              "True"
            ]
          },
          "metadata": {},
          "execution_count": 8
        }
      ]
    }
  ]
}