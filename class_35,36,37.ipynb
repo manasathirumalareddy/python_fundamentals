{
  "nbformat": 4,
  "nbformat_minor": 0,
  "metadata": {
    "colab": {
      "provenance": [],
      "authorship_tag": "ABX9TyPnxyzud7SigN1F+8T85CPx",
      "include_colab_link": true
    },
    "kernelspec": {
      "name": "python3",
      "display_name": "Python 3"
    },
    "language_info": {
      "name": "python"
    }
  },
  "cells": [
    {
      "cell_type": "markdown",
      "metadata": {
        "id": "view-in-github",
        "colab_type": "text"
      },
      "source": [
        "<a href=\"https://colab.research.google.com/github/manasathirumalareddy/python_fundamentals/blob/main/class_35%2C36%2C37.ipynb\" target=\"_parent\"><img src=\"https://colab.research.google.com/assets/colab-badge.svg\" alt=\"Open In Colab\"/></a>"
      ]
    },
    {
      "cell_type": "markdown",
      "source": [
        "# **kwargs\n",
        "keyworded variable length arguments.** means passing multiple arguments with a keyword"
      ],
      "metadata": {
        "id": "2T74cgyp-Ooa"
      }
    },
    {
      "cell_type": "code",
      "source": [
        "def person(name,*data):\n",
        "   print(name)\n",
        "   print(data)\n",
        "\n",
        "\n",
        "\n",
        "person('navin',28,'mumbai',768954)"
      ],
      "metadata": {
        "colab": {
          "base_uri": "https://localhost:8080/"
        },
        "id": "FJsXbYbI-gv9",
        "outputId": "02c6f6ff-7fc6-45d8-c08f-d4043e390ea1"
      },
      "execution_count": null,
      "outputs": [
        {
          "output_type": "stream",
          "name": "stdout",
          "text": [
            "navin\n",
            "(28, 'mumbai', 768954)\n"
          ]
        }
      ]
    },
    {
      "cell_type": "code",
      "source": [
        "def person(name,*data):\n",
        "   print(name)\n",
        "   print(data)\n",
        "\n",
        "\n",
        "\n",
        "person('navin',28,'mumbai',768954)"
      ],
      "metadata": {
        "id": "qICrTRXV_Kh7"
      },
      "execution_count": null,
      "outputs": []
    },
    {
      "cell_type": "code",
      "source": [
        "def person(name,**data):\n",
        "   print(name)\n",
        "   print(data)\n",
        "\n",
        "\n",
        "\n",
        "person('navin',age=28,city='mumbai',mob=768954)"
      ],
      "metadata": {
        "colab": {
          "base_uri": "https://localhost:8080/"
        },
        "id": "-us733ya_ZsI",
        "outputId": "a07dc2ca-db32-42b5-b84d-13c2bf345685"
      },
      "execution_count": null,
      "outputs": [
        {
          "output_type": "stream",
          "name": "stdout",
          "text": [
            "navin\n",
            "{'age': 28, 'city': 'mumbai', 'mob': 768954}\n"
          ]
        }
      ]
    },
    {
      "cell_type": "code",
      "source": [
        "def person(name,**data):\n",
        "   print(name)\n",
        "   for i,j in data.items():\n",
        "    print(i,j)\n",
        "\n",
        "\n",
        "\n",
        "person('navin',age=28,city='mumbai',mob=768954)"
      ],
      "metadata": {
        "colab": {
          "base_uri": "https://localhost:8080/"
        },
        "id": "eSukXB4g_nzm",
        "outputId": "b0f6bfdf-face-438a-b657-c244f7eace3b"
      },
      "execution_count": null,
      "outputs": [
        {
          "output_type": "stream",
          "name": "stdout",
          "text": [
            "navin\n",
            "age 28\n",
            "city mumbai\n",
            "mob 768954\n"
          ]
        }
      ]
    },
    {
      "cell_type": "markdown",
      "source": [
        "# class 36 global and local keyword\n",
        "variable outside the function is called global variable and variable inside in function is called local variable.preference is given to the local variable first and then global variable.we can access global variable inside the functions as well.global a and local a cannot be inside the function.if global variable is present inside the function then u cannot access or write the local variable.\n",
        "\n"
      ],
      "metadata": {
        "id": "7hu9VpDAAUlv"
      }
    },
    {
      "cell_type": "code",
      "source": [
        "a = 10\n",
        "def something():\n",
        "  a = 15\n",
        "  print(\"in fun\",a)\n",
        "something()\n",
        "\n",
        "\n",
        "print(\"outside\",a)"
      ],
      "metadata": {
        "colab": {
          "base_uri": "https://localhost:8080/"
        },
        "id": "-nX1TRY1BLgv",
        "outputId": "0aee15b8-8dbd-4735-b2f5-3b91b824e8cd"
      },
      "execution_count": null,
      "outputs": [
        {
          "output_type": "stream",
          "name": "stdout",
          "text": [
            "in fun 15\n",
            "outside 10\n"
          ]
        }
      ]
    },
    {
      "cell_type": "code",
      "source": [
        "a = 10\n",
        "def something():\n",
        "\n",
        "  print(\"in fun\",a)\n",
        "something()\n",
        "\n",
        "\n",
        "print(\"outside\",a)"
      ],
      "metadata": {
        "colab": {
          "base_uri": "https://localhost:8080/"
        },
        "id": "7yVuY7CpB-uC",
        "outputId": "057a8774-13b1-45d0-f00d-1700bc53fab3"
      },
      "execution_count": null,
      "outputs": [
        {
          "output_type": "stream",
          "name": "stdout",
          "text": [
            "in fun 10\n",
            "outside 10\n"
          ]
        }
      ]
    },
    {
      "cell_type": "code",
      "source": [
        "a = 10\n",
        "def something():\n",
        "  global a\n",
        "  a = 15\n",
        "  print(\"in fun\",a)\n",
        "something()\n",
        "\n",
        "\n",
        "print(\"outside\",a)"
      ],
      "metadata": {
        "colab": {
          "base_uri": "https://localhost:8080/"
        },
        "id": "mXf-LILZCPr5",
        "outputId": "e3bdc610-629b-4ee6-d7d4-acd71186f454"
      },
      "execution_count": null,
      "outputs": [
        {
          "output_type": "stream",
          "name": "stdout",
          "text": [
            "in fun 15\n",
            "outside 15\n"
          ]
        }
      ]
    },
    {
      "cell_type": "code",
      "source": [
        "a = 10\n",
        "print(id(a))\n",
        "def something():\n",
        "\n",
        "  a = 9\n",
        "  x = globals()['a']\n",
        "  print(id(x))\n",
        "  print(\"in fun\",a)\n",
        "something()\n",
        "\n",
        "\n",
        "print(\"outside\",a)"
      ],
      "metadata": {
        "colab": {
          "base_uri": "https://localhost:8080/"
        },
        "id": "C8D7_svOCioV",
        "outputId": "77348810-c69c-4120-9cf6-d6b53704801c"
      },
      "execution_count": null,
      "outputs": [
        {
          "output_type": "stream",
          "name": "stdout",
          "text": [
            "133471785222672\n",
            "133471785222672\n",
            "in fun 9\n",
            "outside 10\n"
          ]
        }
      ]
    },
    {
      "cell_type": "code",
      "source": [
        "a = 10\n",
        "print(id(a))\n",
        "def something():\n",
        "  a = 9\n",
        "  x = globals()['a']\n",
        "  print(x)\n",
        "  print(id(x))\n",
        "  print(\"in fun\",a)\n",
        "  globals()['a'] = 15\n",
        "something()\n",
        "\n",
        "\n",
        "print(\"outside\",a)"
      ],
      "metadata": {
        "colab": {
          "base_uri": "https://localhost:8080/"
        },
        "id": "EdGEjuzDD9uL",
        "outputId": "9613fbaf-8d9e-4616-8f8d-b0f4505a7929"
      },
      "execution_count": null,
      "outputs": [
        {
          "output_type": "stream",
          "name": "stdout",
          "text": [
            "133471785222672\n",
            "10\n",
            "133471785222672\n",
            "in fun 9\n",
            "outside 15\n"
          ]
        }
      ]
    },
    {
      "cell_type": "markdown",
      "source": [
        "# class 37 pass list to a function\n",
        "count number of even and odd numbers in a list.format is a function belong to the string\n"
      ],
      "metadata": {
        "id": "6BYw0MOYrsFQ"
      }
    },
    {
      "cell_type": "code",
      "source": [
        "def count(lst):\n",
        "  even = 0\n",
        "  odd = 0\n",
        "  for i in lst:\n",
        "    if i%2==0:\n",
        "      even+=1\n",
        "    else:\n",
        "      odd+=1\n",
        "  return even,odd\n",
        "\n",
        "lst = [20,34,56,79,66,56,45]\n",
        "even,odd = count(lst)\n",
        "print(even)\n",
        "print(odd)\n"
      ],
      "metadata": {
        "colab": {
          "base_uri": "https://localhost:8080/"
        },
        "id": "JWO0m6mgtdjf",
        "outputId": "cdd64232-5858-4a3a-f5fd-32389549936b"
      },
      "execution_count": null,
      "outputs": [
        {
          "output_type": "stream",
          "name": "stdout",
          "text": [
            "5\n",
            "2\n"
          ]
        }
      ]
    },
    {
      "cell_type": "code",
      "source": [
        "def count(lst):\n",
        "  even = 0\n",
        "  odd = 0\n",
        "  for i in lst:\n",
        "    if i%2==0:\n",
        "      even+=1\n",
        "    else:\n",
        "      odd+=1\n",
        "  return even,odd\n",
        "\n",
        "lst = [20,34,56,79,66,56,45]\n",
        "even,odd = count(lst)\n",
        "\n",
        "print(\"even : {} and odd:{}\".format(even,odd))\n"
      ],
      "metadata": {
        "colab": {
          "base_uri": "https://localhost:8080/"
        },
        "id": "Z1TfByf1vcbQ",
        "outputId": "1bb50ea5-1550-4171-c0ea-75837821fdb1"
      },
      "execution_count": null,
      "outputs": [
        {
          "output_type": "stream",
          "name": "stdout",
          "text": [
            "even : 5 and odd:2\n"
          ]
        }
      ]
    }
  ]
}