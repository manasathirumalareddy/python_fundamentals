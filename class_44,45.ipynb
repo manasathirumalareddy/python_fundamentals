{
  "nbformat": 4,
  "nbformat_minor": 0,
  "metadata": {
    "colab": {
      "provenance": [],
      "authorship_tag": "ABX9TyO8LhCdCDuIQiJbnc3G1nz3",
      "include_colab_link": true
    },
    "kernelspec": {
      "name": "python3",
      "display_name": "Python 3"
    },
    "language_info": {
      "name": "python"
    }
  },
  "cells": [
    {
      "cell_type": "markdown",
      "metadata": {
        "id": "view-in-github",
        "colab_type": "text"
      },
      "source": [
        "<a href=\"https://colab.research.google.com/github/manasathirumalareddy/python_fundamentals/blob/main/class_44%2C45.ipynb\" target=\"_parent\"><img src=\"https://colab.research.google.com/assets/colab-badge.svg\" alt=\"Open In Colab\"/></a>"
      ]
    },
    {
      "cell_type": "markdown",
      "source": [
        "# 44 decorators\n",
        "Decorators are used to add extra features to the existing functions.\n",
        "- Decorators can change the behaviour of an existing function at the compile itself.\n"
      ],
      "metadata": {
        "id": "zQ0r0Gwx7vMi"
      }
    },
    {
      "cell_type": "code",
      "source": [
        "def div(a,b):\n",
        "  if a<b:\n",
        "    a,b = b,a\n",
        "  print (a/b)\n",
        "div(2,4)"
      ],
      "metadata": {
        "colab": {
          "base_uri": "https://localhost:8080/"
        },
        "id": "RVbxvvXjM2g0",
        "outputId": "90e2a320-7777-42f2-bdcb-87f837a1b799"
      },
      "execution_count": null,
      "outputs": [
        {
          "output_type": "stream",
          "name": "stdout",
          "text": [
            "2.0\n"
          ]
        }
      ]
    },
    {
      "cell_type": "code",
      "source": [
        "def div(a,b):\n",
        "  print(a/b)\n",
        "def smart_div(func):\n",
        "  def inner(a,b):\n",
        "    if a<b:\n",
        "      a,b = b,a\n",
        "    return func(a,b)\n",
        "  return inner\n",
        "div1 = smart_div(div)\n",
        "div1(2,4)"
      ],
      "metadata": {
        "colab": {
          "base_uri": "https://localhost:8080/"
        },
        "id": "OZk_LsgXbRwm",
        "outputId": "136bd0dc-00b0-4ede-f20b-89899c6e476e"
      },
      "execution_count": null,
      "outputs": [
        {
          "output_type": "stream",
          "name": "stdout",
          "text": [
            "2.0\n"
          ]
        }
      ]
    },
    {
      "cell_type": "markdown",
      "source": [
        "# 45 modules\n",
        "The concept of modules is used when instead of writing a big software in one file, we will break it down into small parts.Module name is the file name with the extension .py.\n",
        "We can also define our modules and use them in code, and they are known as user-defined modules.\n"
      ],
      "metadata": {
        "id": "EFTjEj-lce3p"
      }
    }
  ]
}