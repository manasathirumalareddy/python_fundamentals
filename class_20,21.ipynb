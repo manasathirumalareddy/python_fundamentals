{
  "nbformat": 4,
  "nbformat_minor": 0,
  "metadata": {
    "colab": {
      "provenance": [],
      "authorship_tag": "ABX9TyMFwpyo9bWDCyIGCkIqto/4",
      "include_colab_link": true
    },
    "kernelspec": {
      "name": "python3",
      "display_name": "Python 3"
    },
    "language_info": {
      "name": "python"
    }
  },
  "cells": [
    {
      "cell_type": "markdown",
      "metadata": {
        "id": "view-in-github",
        "colab_type": "text"
      },
      "source": [
        "<a href=\"https://colab.research.google.com/github/manasathirumalareddy/python_fundamentals/blob/main/class_20%2C21.ipynb\" target=\"_parent\"><img src=\"https://colab.research.google.com/assets/colab-badge.svg\" alt=\"Open In Colab\"/></a>"
      ]
    },
    {
      "cell_type": "markdown",
      "source": [
        "class 20\n",
        "# While loop in python(nested while loop)\n",
        "loops are used to execute a statement multiple times.\n",
        "while is a key word which is used to repeat several times.use a while and specify the condition.\n",
        "3 steps:initialization,condition,increment/decrement.\n",
        "while loop is used inside a while loop ,first it will finish inner loop and jump into outer loop and execute the outside while loop.ex:number of hours is inner loop and no of days is outer loop. end=\"\",this means it will not enter into the next line it will continue the same line.print()is used to execute the step in next line.\n",
        "\n"
      ],
      "metadata": {
        "id": "umDDW_dIuCGN"
      }
    },
    {
      "cell_type": "code",
      "source": [
        "i = 1\n",
        "while i<=5:\n",
        "  print(\"vamsi\")\n",
        "  i=i+1"
      ],
      "metadata": {
        "colab": {
          "base_uri": "https://localhost:8080/"
        },
        "id": "RVZD75JgvD7W",
        "outputId": "ca9a0f08-54e9-4e4b-f356-321ca7782126"
      },
      "execution_count": null,
      "outputs": [
        {
          "output_type": "stream",
          "name": "stdout",
          "text": [
            "vamsi\n",
            "vamsi\n",
            "vamsi\n",
            "vamsi\n",
            "vamsi\n"
          ]
        }
      ]
    },
    {
      "cell_type": "code",
      "source": [
        "i = 2\n",
        "while i<=5:\n",
        "  print(\"manasa\")\n",
        "  i=i+1"
      ],
      "metadata": {
        "colab": {
          "base_uri": "https://localhost:8080/"
        },
        "id": "grJ3t0E5v2UG",
        "outputId": "ad06c413-08b3-4ac2-d32b-e2b00c251470"
      },
      "execution_count": null,
      "outputs": [
        {
          "output_type": "stream",
          "name": "stdout",
          "text": [
            "manasa\n",
            "manasa\n",
            "manasa\n",
            "manasa\n"
          ]
        }
      ]
    },
    {
      "cell_type": "code",
      "source": [
        "i = 5\n",
        "while i>=1:\n",
        "  print(\"mansi\",i)\n",
        "  i=i-1"
      ],
      "metadata": {
        "colab": {
          "base_uri": "https://localhost:8080/"
        },
        "id": "gqR_u8oWwlxI",
        "outputId": "213bf057-d6af-40fa-b2ba-f45307b07ff8"
      },
      "execution_count": null,
      "outputs": [
        {
          "output_type": "stream",
          "name": "stdout",
          "text": [
            "mansi 5\n",
            "mansi 4\n",
            "mansi 3\n",
            "mansi 2\n",
            "mansi 1\n"
          ]
        }
      ]
    },
    {
      "cell_type": "code",
      "source": [
        "i = 1\n",
        "while i<=5:\n",
        "  print(\"manasa\", end=\"\")\n",
        "  j=1\n",
        "  while j<=4:\n",
        "   print(\"vamsi\", end=\"\")\n",
        "   j=j+1\n",
        "  i=i+1\n",
        "  print()\n"
      ],
      "metadata": {
        "colab": {
          "base_uri": "https://localhost:8080/"
        },
        "id": "sixJFmSd03Nj",
        "outputId": "0de895d8-0316-42b3-f3ad-6852e1203208"
      },
      "execution_count": null,
      "outputs": [
        {
          "output_type": "stream",
          "name": "stdout",
          "text": [
            "manasavamsivamsivamsivamsi\n",
            "manasavamsivamsivamsivamsi\n",
            "manasavamsivamsivamsivamsi\n",
            "manasavamsivamsivamsivamsi\n",
            "manasavamsivamsivamsivamsi\n"
          ]
        }
      ]
    },
    {
      "cell_type": "code",
      "source": [
        "i = 1\n",
        "while i<=5:\n",
        "  print(\"manasa\", end='')\n",
        "  j=1\n",
        "  while j<=4:\n",
        "   print(\"vamsi\", end='')\n",
        "   j=j+1\n",
        "  i=i+1\n",
        "  print()\n"
      ],
      "metadata": {
        "colab": {
          "base_uri": "https://localhost:8080/"
        },
        "id": "CXWgWFZ230k2",
        "outputId": "e0cb88e8-1f9a-4fa7-d6f7-27c45e2c3bea"
      },
      "execution_count": null,
      "outputs": [
        {
          "output_type": "stream",
          "name": "stdout",
          "text": [
            "manasavamsivamsivamsivamsi\n",
            "manasavamsivamsivamsivamsi\n",
            "manasavamsivamsivamsivamsi\n",
            "manasavamsivamsivamsivamsi\n",
            "manasavamsivamsivamsivamsi\n"
          ]
        }
      ]
    },
    {
      "cell_type": "markdown",
      "source": [
        "# class 21 For loop\n",
        "for loop work with sequence.it does not need condition.for ex list,string,tuple,set. it will print values one by one.we can also use range.\n",
        "\n",
        "\n"
      ],
      "metadata": {
        "id": "PG0BLfRsqDCA"
      }
    },
    {
      "cell_type": "code",
      "source": [
        "x = ['navin',65,2.5]\n",
        "for i in x:\n",
        "  print(i)"
      ],
      "metadata": {
        "colab": {
          "base_uri": "https://localhost:8080/"
        },
        "id": "Css56WRCreMA",
        "outputId": "6d48333c-ade6-4bf9-b5b4-f2bc91c821c9"
      },
      "execution_count": null,
      "outputs": [
        {
          "output_type": "stream",
          "name": "stdout",
          "text": [
            "navin\n",
            "65\n",
            "2.5\n"
          ]
        }
      ]
    },
    {
      "cell_type": "code",
      "source": [
        "x = 'manasa'\n",
        "for i in x:\n",
        "  print(i)"
      ],
      "metadata": {
        "colab": {
          "base_uri": "https://localhost:8080/"
        },
        "id": "ucSyPeYwsxqH",
        "outputId": "66aca583-95fc-4396-9b26-7d979f8bdba6"
      },
      "execution_count": null,
      "outputs": [
        {
          "output_type": "stream",
          "name": "stdout",
          "text": [
            "m\n",
            "a\n",
            "n\n",
            "a\n",
            "s\n",
            "a\n"
          ]
        }
      ]
    },
    {
      "cell_type": "code",
      "source": [
        "for i in [23,45,76]:\n",
        "  print(i)"
      ],
      "metadata": {
        "colab": {
          "base_uri": "https://localhost:8080/"
        },
        "id": "Q1XHUj0ktSqZ",
        "outputId": "9bbe4111-34c3-4bba-cbf0-6939526df83d"
      },
      "execution_count": null,
      "outputs": [
        {
          "output_type": "stream",
          "name": "stdout",
          "text": [
            "23\n",
            "45\n",
            "76\n"
          ]
        }
      ]
    },
    {
      "cell_type": "code",
      "source": [
        "for i in range(10):\n",
        "  print(i)"
      ],
      "metadata": {
        "colab": {
          "base_uri": "https://localhost:8080/"
        },
        "id": "CDTNsgXStlG9",
        "outputId": "5a1d18fa-303f-4fa9-d9bf-2a6a466ab1b2"
      },
      "execution_count": null,
      "outputs": [
        {
          "output_type": "stream",
          "name": "stdout",
          "text": [
            "0\n",
            "1\n",
            "2\n",
            "3\n",
            "4\n",
            "5\n",
            "6\n",
            "7\n",
            "8\n",
            "9\n"
          ]
        }
      ]
    },
    {
      "cell_type": "code",
      "source": [
        "for i in range(10,21,2):\n",
        "  print(i)"
      ],
      "metadata": {
        "colab": {
          "base_uri": "https://localhost:8080/"
        },
        "id": "z-15NQ9lt0Jt",
        "outputId": "348f95b3-4c39-42a4-f095-516126749277"
      },
      "execution_count": null,
      "outputs": [
        {
          "output_type": "stream",
          "name": "stdout",
          "text": [
            "10\n",
            "12\n",
            "14\n",
            "16\n",
            "18\n",
            "20\n"
          ]
        }
      ]
    },
    {
      "cell_type": "code",
      "source": [
        "for i in range(1,21):\n",
        "  if(i%5!=0):\n",
        "    print(i)"
      ],
      "metadata": {
        "colab": {
          "base_uri": "https://localhost:8080/"
        },
        "id": "Lw8Vk6Ahueeh",
        "outputId": "3c97bc14-94e9-4411-b203-c3bbcc9732e5"
      },
      "execution_count": null,
      "outputs": [
        {
          "output_type": "stream",
          "name": "stdout",
          "text": [
            "1\n",
            "2\n",
            "3\n",
            "4\n",
            "6\n",
            "7\n",
            "8\n",
            "9\n",
            "11\n",
            "12\n",
            "13\n",
            "14\n",
            "16\n",
            "17\n",
            "18\n",
            "19\n"
          ]
        }
      ]
    }
  ]
}