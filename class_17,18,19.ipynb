{
  "nbformat": 4,
  "nbformat_minor": 0,
  "metadata": {
    "colab": {
      "provenance": [],
      "authorship_tag": "ABX9TyOLPL3acR+yng8LBvrSoXRn",
      "include_colab_link": true
    },
    "kernelspec": {
      "name": "python3",
      "display_name": "Python 3"
    },
    "language_info": {
      "name": "python"
    }
  },
  "cells": [
    {
      "cell_type": "markdown",
      "metadata": {
        "id": "view-in-github",
        "colab_type": "text"
      },
      "source": [
        "<a href=\"https://colab.research.google.com/github/manasathirumalareddy/python_fundamentals/blob/main/class_17%2C18%2C19.ipynb\" target=\"_parent\"><img src=\"https://colab.research.google.com/assets/colab-badge.svg\" alt=\"Open In Colab\"/></a>"
      ]
    },
    {
      "cell_type": "markdown",
      "source": [
        "# class 17 pycharm,Run,Debug,trace,.py file\n",
        "IDLE is an interactive console.\n",
        "\n"
      ],
      "metadata": {
        "id": "OjvONbRSNJFe"
      }
    },
    {
      "cell_type": "markdown",
      "source": [
        "# class 18 user input,command line input.\n",
        "input gives string format we have to convert it into integer form,float form.\n",
        "character form is a letter in a string pqr is a string p is a individual character we can find the individual char by index value in a string.function eval and argument values argv belongs to the module sys"
      ],
      "metadata": {
        "id": "vcP8tyDfzfz7"
      }
    },
    {
      "cell_type": "code",
      "source": [
        "x = input(\"enter 1st number\")\n",
        "a = int(x)\n",
        "y = input(\"enter 2nd number\")\n",
        "b = int(y)\n",
        "z = a+b\n",
        "print(z)"
      ],
      "metadata": {
        "colab": {
          "base_uri": "https://localhost:8080/"
        },
        "id": "VdGd0MMdFvow",
        "outputId": "1c5b7e4a-6821-4d3c-f2bd-67b87405e213"
      },
      "execution_count": null,
      "outputs": [
        {
          "output_type": "stream",
          "name": "stdout",
          "text": [
            "enter 1st number9\n",
            "enter 2nd number5\n",
            "14\n"
          ]
        }
      ]
    },
    {
      "cell_type": "code",
      "source": [
        "x = int(input(\"enter 1st number\"))\n",
        "y = int(input(\"enter 2nd number\"))\n",
        "z = x+y\n",
        "print(z)"
      ],
      "metadata": {
        "colab": {
          "base_uri": "https://localhost:8080/"
        },
        "id": "y_NWuWc8GsdS",
        "outputId": "afd2452c-caf3-4808-d33c-2899fd500957"
      },
      "execution_count": null,
      "outputs": [
        {
          "output_type": "stream",
          "name": "stdout",
          "text": [
            "enter 1st number6\n",
            "enter 2nd number8\n",
            "14\n"
          ]
        }
      ]
    },
    {
      "cell_type": "code",
      "source": [
        "ch = input('enter a char')\n",
        "print(ch)"
      ],
      "metadata": {
        "colab": {
          "base_uri": "https://localhost:8080/"
        },
        "id": "riQxJ8o6Hh1q",
        "outputId": "1f0970d4-9a3a-4375-b5de-c29b1519a4e4"
      },
      "execution_count": null,
      "outputs": [
        {
          "output_type": "stream",
          "name": "stdout",
          "text": [
            "enter a charv\n",
            "v\n"
          ]
        }
      ]
    },
    {
      "cell_type": "code",
      "source": [
        "ch = input('enter a char')\n",
        "print(ch[0])\n"
      ],
      "metadata": {
        "colab": {
          "base_uri": "https://localhost:8080/"
        },
        "id": "NRgmVeVOIPrp",
        "outputId": "a85e7f62-933b-4188-c492-1438f1087ad3"
      },
      "execution_count": null,
      "outputs": [
        {
          "output_type": "stream",
          "name": "stdout",
          "text": [
            "enter a charpqr\n",
            "p\n"
          ]
        }
      ]
    },
    {
      "cell_type": "code",
      "source": [
        "ch = input('enter a char')[0]\n",
        "print(ch)\n"
      ],
      "metadata": {
        "colab": {
          "base_uri": "https://localhost:8080/"
        },
        "outputId": "176f5cc1-269b-48ca-cd81-caa86fa4f6dd",
        "id": "uYH23BfFIwU9"
      },
      "execution_count": null,
      "outputs": [
        {
          "output_type": "stream",
          "name": "stdout",
          "text": [
            "enter a charpqr\n",
            "p\n"
          ]
        }
      ]
    },
    {
      "cell_type": "code",
      "source": [
        "result = eval(input('enter an expr'))\n",
        "print(result)"
      ],
      "metadata": {
        "colab": {
          "base_uri": "https://localhost:8080/"
        },
        "id": "CNHj5yqxJa5l",
        "outputId": "972975f0-6d1a-418c-b1a7-afb53fb43028"
      },
      "execution_count": null,
      "outputs": [
        {
          "output_type": "stream",
          "name": "stdout",
          "text": [
            "enter an expr2+6-1\n",
            "7\n"
          ]
        }
      ]
    },
    {
      "cell_type": "markdown",
      "source": [
        "# class 19 conditional statements if,elif,else,nestedif\n",
        "if it is true then only it will execute the block or suite.indentation should be followed in if condition.elif  is used if condition is wrong then it will execute elif statement and then else statement.\n",
        "\n",
        "\n",
        "\n"
      ],
      "metadata": {
        "id": "h1VJbdZk0TVi"
      }
    },
    {
      "cell_type": "code",
      "source": [
        "if True:\n",
        "    print(\"im right\")\n"
      ],
      "metadata": {
        "colab": {
          "base_uri": "https://localhost:8080/"
        },
        "id": "RDI2S9wGU0DL",
        "outputId": "a72f8609-1bd7-4464-8125-84071d36600c"
      },
      "execution_count": null,
      "outputs": [
        {
          "output_type": "stream",
          "name": "stdout",
          "text": [
            "im right\n"
          ]
        }
      ]
    },
    {
      "cell_type": "code",
      "source": [
        "if False:\n",
        "    print(\"im right\")"
      ],
      "metadata": {
        "id": "J9wJromNVN52"
      },
      "execution_count": null,
      "outputs": []
    },
    {
      "cell_type": "code",
      "source": [
        "x = 3\n",
        "r = x % 2\n",
        "if r==0:\n",
        "    print(\"even\")"
      ],
      "metadata": {
        "id": "MpZw0JX-WQQv"
      },
      "execution_count": null,
      "outputs": []
    },
    {
      "cell_type": "code",
      "source": [
        "x = 8\n",
        "r = x % 2\n",
        "if r ==0:\n",
        "  print(\"even\")"
      ],
      "metadata": {
        "colab": {
          "base_uri": "https://localhost:8080/"
        },
        "id": "pKIC45nyWhs8",
        "outputId": "90fba3ca-6258-43a6-bf9d-94b2fab0308f"
      },
      "execution_count": null,
      "outputs": [
        {
          "output_type": "stream",
          "name": "stdout",
          "text": [
            "even\n"
          ]
        }
      ]
    },
    {
      "cell_type": "code",
      "source": [
        "x = 2\n",
        "if x==1:\n",
        "  print(\"one\")\n",
        "if (x==2):\n",
        "  print(\"two\")\n",
        "if (x==3):\n",
        "  print(\"three\")\n",
        "if (x==4):\n",
        "  print(\"four\")"
      ],
      "metadata": {
        "colab": {
          "base_uri": "https://localhost:8080/"
        },
        "id": "zJcq1U9cX9Y4",
        "outputId": "ece9384e-93e3-4006-f049-9f342433fa43"
      },
      "execution_count": null,
      "outputs": [
        {
          "output_type": "stream",
          "name": "stdout",
          "text": [
            "two\n"
          ]
        }
      ]
    }
  ]
}