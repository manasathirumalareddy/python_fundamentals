{
  "nbformat": 4,
  "nbformat_minor": 0,
  "metadata": {
    "colab": {
      "provenance": [],
      "authorship_tag": "ABX9TyMWtY/p7Pft+vYuW0IJIhX1",
      "include_colab_link": true
    },
    "kernelspec": {
      "name": "python3",
      "display_name": "Python 3"
    },
    "language_info": {
      "name": "python"
    }
  },
  "cells": [
    {
      "cell_type": "markdown",
      "metadata": {
        "id": "view-in-github",
        "colab_type": "text"
      },
      "source": [
        "<a href=\"https://colab.research.google.com/github/manasathirumalareddy/python_fundamentals/blob/main/class_24%2C25%2C26.ipynb\" target=\"_parent\"><img src=\"https://colab.research.google.com/assets/colab-badge.svg\" alt=\"Open In Colab\"/></a>"
      ]
    },
    {
      "cell_type": "markdown",
      "source": [
        "# class 24 : for else in python\n",
        "\n"
      ],
      "metadata": {
        "id": "cWurtSClhvzS"
      }
    },
    {
      "cell_type": "code",
      "source": [
        "nums=[12,34,67,15]\n",
        "for num in nums:\n",
        "  if num % 5 == 0:\n",
        "    print(num)"
      ],
      "metadata": {
        "colab": {
          "base_uri": "https://localhost:8080/"
        },
        "id": "gGX3lelfiL8u",
        "outputId": "c84c36d9-42fc-4d79-e7da-005285c8e919"
      },
      "execution_count": null,
      "outputs": [
        {
          "output_type": "stream",
          "name": "stdout",
          "text": [
            "15\n"
          ]
        }
      ]
    },
    {
      "cell_type": "code",
      "source": [
        "nums=[10,25,34,67,15]\n",
        "for num in nums:\n",
        "  if num % 5 == 0:\n",
        "    print(num)\n",
        "    break"
      ],
      "metadata": {
        "colab": {
          "base_uri": "https://localhost:8080/"
        },
        "id": "CVnI-fGWi7t1",
        "outputId": "55af40e1-f469-463b-b48e-b5597c779c65"
      },
      "execution_count": null,
      "outputs": [
        {
          "output_type": "stream",
          "name": "stdout",
          "text": [
            "10\n"
          ]
        }
      ]
    },
    {
      "cell_type": "code",
      "source": [
        "nums=[11,24,34,67,14]\n",
        "for num in nums:\n",
        "  if num % 5 == 0:\n",
        "    print(num)\n",
        "    break\n",
        "else:\n",
        "    print(\"not found\")"
      ],
      "metadata": {
        "colab": {
          "base_uri": "https://localhost:8080/"
        },
        "id": "z92pZejhjM1D",
        "outputId": "ff01aeb0-48fa-408b-8bbc-469f45964ba0"
      },
      "execution_count": null,
      "outputs": [
        {
          "output_type": "stream",
          "name": "stdout",
          "text": [
            "not found\n"
          ]
        }
      ]
    },
    {
      "cell_type": "markdown",
      "source": [
        "# class 25 prime number in python\n",
        "prime number means which is divisble by 1 and itself(7,13,19)"
      ],
      "metadata": {
        "id": "weN_cPkIjz98"
      }
    },
    {
      "cell_type": "code",
      "source": [
        "num=7\n",
        "for i in range(2,num):\n",
        "  if num % i == 0:\n",
        "    print(\"not prime\")\n",
        "    break\n",
        "else:\n",
        "  print(\"prime\")"
      ],
      "metadata": {
        "colab": {
          "base_uri": "https://localhost:8080/"
        },
        "id": "TAEErKraj6df",
        "outputId": "2cf48ab4-343d-4ad7-a458-48646efbe5c2"
      },
      "execution_count": null,
      "outputs": [
        {
          "output_type": "stream",
          "name": "stdout",
          "text": [
            "prime\n"
          ]
        }
      ]
    },
    {
      "cell_type": "code",
      "source": [
        "num=8\n",
        "for i in range(2,num):\n",
        "  if num % i == 0:\n",
        "    print(\"not prime\")\n",
        "    break\n",
        "else:\n",
        "  print(\"prime\")"
      ],
      "metadata": {
        "colab": {
          "base_uri": "https://localhost:8080/"
        },
        "id": "ZVs9t2lplK_C",
        "outputId": "7c83f46e-3b57-41d1-e5d1-c353f2f5c8c8"
      },
      "execution_count": null,
      "outputs": [
        {
          "output_type": "stream",
          "name": "stdout",
          "text": [
            "not prime\n"
          ]
        }
      ]
    },
    {
      "cell_type": "markdown",
      "source": [
        "# class 26 array in python:\n",
        "array is similar to list but should have same type either int or float.they dont have specific size.i means signed int,I means unsigned intezer.Buffer info gives size of the array(address,size).for characters we should use u letter.from array we can construct newarray of same code by usingvals.typecode,(a for a in vals)\n"
      ],
      "metadata": {
        "id": "s_quOw2vniR9"
      }
    },
    {
      "cell_type": "code",
      "source": [
        "from array import *\n",
        "vals = array('i',[23,5,6,8])\n",
        "print(vals)"
      ],
      "metadata": {
        "colab": {
          "base_uri": "https://localhost:8080/"
        },
        "id": "VjhO5kWAHhEK",
        "outputId": "c0c3208d-efd4-42eb-cc8c-3e9e5f8dfc9b"
      },
      "execution_count": null,
      "outputs": [
        {
          "output_type": "stream",
          "name": "stdout",
          "text": [
            "array('i', [23, 5, 6, 8])\n"
          ]
        }
      ]
    },
    {
      "cell_type": "code",
      "source": [
        "from array import *\n",
        "vals = array('i',[23,-5,6,8])\n",
        "print(vals)"
      ],
      "metadata": {
        "colab": {
          "base_uri": "https://localhost:8080/"
        },
        "id": "zwMF2G-PJShP",
        "outputId": "f62dde2e-9fe3-4954-947a-219fddfe8e1d"
      },
      "execution_count": null,
      "outputs": [
        {
          "output_type": "stream",
          "name": "stdout",
          "text": [
            "array('i', [23, -5, 6, 8])\n"
          ]
        }
      ]
    },
    {
      "cell_type": "code",
      "source": [
        "from array import *\n",
        "vals = array('I',[23,-5,6,8])\n",
        "print(vals)"
      ],
      "metadata": {
        "colab": {
          "base_uri": "https://localhost:8080/",
          "height": 211
        },
        "id": "MtGXDFCoJyCO",
        "outputId": "0249770a-fbee-4094-804d-42151e91c6ea"
      },
      "execution_count": null,
      "outputs": [
        {
          "output_type": "error",
          "ename": "OverflowError",
          "evalue": "ignored",
          "traceback": [
            "\u001b[0;31m---------------------------------------------------------------------------\u001b[0m",
            "\u001b[0;31mOverflowError\u001b[0m                             Traceback (most recent call last)",
            "\u001b[0;32m<ipython-input-5-8aa82abc527f>\u001b[0m in \u001b[0;36m<cell line: 2>\u001b[0;34m()\u001b[0m\n\u001b[1;32m      1\u001b[0m \u001b[0;32mfrom\u001b[0m \u001b[0marray\u001b[0m \u001b[0;32mimport\u001b[0m \u001b[0;34m*\u001b[0m\u001b[0;34m\u001b[0m\u001b[0;34m\u001b[0m\u001b[0m\n\u001b[0;32m----> 2\u001b[0;31m \u001b[0mvals\u001b[0m \u001b[0;34m=\u001b[0m \u001b[0marray\u001b[0m\u001b[0;34m(\u001b[0m\u001b[0;34m'I'\u001b[0m\u001b[0;34m,\u001b[0m\u001b[0;34m[\u001b[0m\u001b[0;36m23\u001b[0m\u001b[0;34m,\u001b[0m\u001b[0;34m-\u001b[0m\u001b[0;36m5\u001b[0m\u001b[0;34m,\u001b[0m\u001b[0;36m6\u001b[0m\u001b[0;34m,\u001b[0m\u001b[0;36m8\u001b[0m\u001b[0;34m]\u001b[0m\u001b[0;34m)\u001b[0m\u001b[0;34m\u001b[0m\u001b[0;34m\u001b[0m\u001b[0m\n\u001b[0m\u001b[1;32m      3\u001b[0m \u001b[0mprint\u001b[0m\u001b[0;34m(\u001b[0m\u001b[0mvals\u001b[0m\u001b[0;34m)\u001b[0m\u001b[0;34m\u001b[0m\u001b[0;34m\u001b[0m\u001b[0m\n",
            "\u001b[0;31mOverflowError\u001b[0m: can't convert negative value to unsigned int"
          ]
        }
      ]
    },
    {
      "cell_type": "code",
      "source": [
        "from array import *\n",
        "vals = array('i',[23,5,6,8])\n",
        "print(vals.buffer_info())"
      ],
      "metadata": {
        "colab": {
          "base_uri": "https://localhost:8080/"
        },
        "id": "P5PLm997J8oW",
        "outputId": "2fa43652-e150-4a04-8621-fc85c639bafc"
      },
      "execution_count": null,
      "outputs": [
        {
          "output_type": "stream",
          "name": "stdout",
          "text": [
            "(134767541110176, 4)\n"
          ]
        }
      ]
    },
    {
      "cell_type": "code",
      "source": [
        "from array import *\n",
        "vals = array('i',[23,5,6,8])\n",
        "vals.reverse()\n",
        "print(vals)"
      ],
      "metadata": {
        "colab": {
          "base_uri": "https://localhost:8080/"
        },
        "id": "yjZTahjVKm9D",
        "outputId": "9d6c8b3e-922d-47c8-945e-4a9b0804940a"
      },
      "execution_count": null,
      "outputs": [
        {
          "output_type": "stream",
          "name": "stdout",
          "text": [
            "array('i', [8, 6, 5, 23])\n"
          ]
        }
      ]
    },
    {
      "cell_type": "code",
      "source": [
        "from array import *\n",
        "vals = array('i',[23,5,6,8])\n",
        "\n",
        "for i in range(4):\n",
        "  print(vals[i])"
      ],
      "metadata": {
        "colab": {
          "base_uri": "https://localhost:8080/"
        },
        "id": "AObWTM1BKzrd",
        "outputId": "e8b2b16f-0baa-4c4e-801c-bd94a5711ad4"
      },
      "execution_count": null,
      "outputs": [
        {
          "output_type": "stream",
          "name": "stdout",
          "text": [
            "23\n",
            "5\n",
            "6\n",
            "8\n"
          ]
        }
      ]
    },
    {
      "cell_type": "code",
      "source": [
        "from array import *\n",
        "vals = array('i',[23,5,6,8])\n",
        "for e in vals:\n",
        "  print(e)"
      ],
      "metadata": {
        "colab": {
          "base_uri": "https://localhost:8080/"
        },
        "id": "gKwFOjgRMRpD",
        "outputId": "e3b257e6-83cb-433e-f93c-e84705efd15d"
      },
      "execution_count": null,
      "outputs": [
        {
          "output_type": "stream",
          "name": "stdout",
          "text": [
            "23\n",
            "5\n",
            "6\n",
            "8\n"
          ]
        }
      ]
    },
    {
      "cell_type": "code",
      "source": [
        "from array import *\n",
        "vals = array('u',['a','e','i'])\n",
        "for e in vals:\n",
        "  print(e)\n"
      ],
      "metadata": {
        "colab": {
          "base_uri": "https://localhost:8080/"
        },
        "id": "YT2IFVEcMa7n",
        "outputId": "27763ae2-4888-4c07-8db4-9c9647d5638e"
      },
      "execution_count": null,
      "outputs": [
        {
          "output_type": "stream",
          "name": "stdout",
          "text": [
            "a\n",
            "e\n",
            "i\n"
          ]
        }
      ]
    },
    {
      "cell_type": "code",
      "source": [
        "from array import *\n",
        "vals = array('i',[23,5,6,8])\n",
        "newArr = array(vals.typecode,(a for a in vals))\n",
        "for e in newArr:\n",
        "  print(e)"
      ],
      "metadata": {
        "colab": {
          "base_uri": "https://localhost:8080/"
        },
        "id": "e1G62AztM3jV",
        "outputId": "5b14fe61-7987-40d9-ac56-8722afeab46d"
      },
      "execution_count": null,
      "outputs": [
        {
          "output_type": "stream",
          "name": "stdout",
          "text": [
            "23\n",
            "5\n",
            "6\n",
            "8\n"
          ]
        }
      ]
    },
    {
      "cell_type": "code",
      "source": [
        "from array import *\n",
        "vals = array('i',[23,5,6,8])\n",
        "newArr = array(vals.typecode,(a*a for a in vals))\n",
        "for e in newArr:\n",
        "  print(e)"
      ],
      "metadata": {
        "colab": {
          "base_uri": "https://localhost:8080/"
        },
        "id": "1jrAk7DmOA50",
        "outputId": "a8fdedc0-053c-4fac-8dc6-d975777063bc"
      },
      "execution_count": null,
      "outputs": [
        {
          "output_type": "stream",
          "name": "stdout",
          "text": [
            "529\n",
            "25\n",
            "36\n",
            "64\n"
          ]
        }
      ]
    },
    {
      "cell_type": "code",
      "source": [
        "from array import *\n",
        "vals = array('i',[23,5,6,8])\n",
        "newArr = array(vals.typecode,(a for a in vals))\n",
        "i=0\n",
        "while i<len(newArr):\n",
        "  print(newArr[i])\n",
        "  i+=1"
      ],
      "metadata": {
        "colab": {
          "base_uri": "https://localhost:8080/"
        },
        "id": "qeiEVvHROYfa",
        "outputId": "4a837d3f-e5b6-4894-8c4a-74946a7e296a"
      },
      "execution_count": null,
      "outputs": [
        {
          "output_type": "stream",
          "name": "stdout",
          "text": [
            "23\n",
            "5\n",
            "6\n",
            "8\n"
          ]
        }
      ]
    },
    {
      "cell_type": "code",
      "source": [
        "from array import *\n",
        "vals = array('i',[34,67,89,65,35])\n",
        "\n",
        "for e in range(5):\n",
        "  print(vals.buffer_info())"
      ],
      "metadata": {
        "colab": {
          "base_uri": "https://localhost:8080/"
        },
        "id": "NaESUDmyPLLC",
        "outputId": "d18ffbfb-043a-4005-feb8-a1fcefb469aa"
      },
      "execution_count": null,
      "outputs": [
        {
          "output_type": "stream",
          "name": "stdout",
          "text": [
            "(134767537458576, 5)\n",
            "(134767537458576, 5)\n",
            "(134767537458576, 5)\n",
            "(134767537458576, 5)\n",
            "(134767537458576, 5)\n"
          ]
        }
      ]
    },
    {
      "cell_type": "code",
      "source": [
        "array = [4,6,2,4,7,8]\n",
        "sorted_array = sorted(array)\n",
        "print(sorted_array)"
      ],
      "metadata": {
        "colab": {
          "base_uri": "https://localhost:8080/"
        },
        "id": "RMHqJ3PGRQY2",
        "outputId": "daedfcce-2786-43e7-cdf1-4d92edd62d10"
      },
      "execution_count": null,
      "outputs": [
        {
          "output_type": "stream",
          "name": "stdout",
          "text": [
            "[2, 4, 4, 6, 7, 8]\n"
          ]
        }
      ]
    }
  ]
}