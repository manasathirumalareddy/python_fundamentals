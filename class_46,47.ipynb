{
  "nbformat": 4,
  "nbformat_minor": 0,
  "metadata": {
    "colab": {
      "provenance": [],
      "authorship_tag": "ABX9TyNcbbTcxHlEmqq1F/YSW7PT",
      "include_colab_link": true
    },
    "kernelspec": {
      "name": "python3",
      "display_name": "Python 3"
    },
    "language_info": {
      "name": "python"
    }
  },
  "cells": [
    {
      "cell_type": "markdown",
      "metadata": {
        "id": "view-in-github",
        "colab_type": "text"
      },
      "source": [
        "<a href=\"https://colab.research.google.com/github/manasathirumalareddy/python_fundamentals/blob/main/class_46%2C47.ipynb\" target=\"_parent\"><img src=\"https://colab.research.google.com/assets/colab-badge.svg\" alt=\"Open In Colab\"/></a>"
      ]
    },
    {
      "cell_type": "markdown",
      "source": [
        "# 46 special variable\n",
        "_NAME_\n",
        "main is the starting point of execution.\n",
        "The first module name is always main and the code starts from main.\n",
        "- _name_ is a variable name that return the __main__.\n",
        "- name_ is a built-in variable that evaluates the name of the current module.\n",
        "- The value of the name changes as per the place where it is used, so that's why it is known as a variable.\n",
        "- If you are an individual file or module, then the name will return main.\n",
        "- If you are importing another module containing the name variable in any file, then the name variable will return the name of that module.\n",
        "OR,\n",
        "- If you are running a file as a main and using a named variable in it, then it will print the main.\n",
        "- But if you are printing a name that is imported as a module in another file, then it will print the module name.\n"
      ],
      "metadata": {
        "id": "oR9netJhe8H6"
      }
    },
    {
      "cell_type": "code",
      "source": [
        "print(__name__)"
      ],
      "metadata": {
        "colab": {
          "base_uri": "https://localhost:8080/"
        },
        "id": "V15oWNg_XK_P",
        "outputId": "7a1bc381-b5ca-4a49-bb50-86fd079d9dad"
      },
      "execution_count": null,
      "outputs": [
        {
          "output_type": "stream",
          "name": "stdout",
          "text": [
            "__main__\n"
          ]
        }
      ]
    },
    {
      "cell_type": "code",
      "source": [
        "print(\"hello\"+__name__)"
      ],
      "metadata": {
        "colab": {
          "base_uri": "https://localhost:8080/"
        },
        "id": "OnFuGdnPZBOo",
        "outputId": "0ae16c2c-38db-4227-e7cd-a660d650b2e3"
      },
      "execution_count": null,
      "outputs": [
        {
          "output_type": "stream",
          "name": "stdout",
          "text": [
            "hello__main__\n"
          ]
        }
      ]
    },
    {
      "cell_type": "code",
      "source": [
        "def main():\n",
        "  print(\"hello\")\n",
        "  print(\"welcome user\")\n",
        "if __name__ == \"__main__\":\n",
        "  main()\n"
      ],
      "metadata": {
        "colab": {
          "base_uri": "https://localhost:8080/"
        },
        "id": "GzBlFVO3Z-PL",
        "outputId": "05632b48-2d11-443d-88b9-26566ea7b8b1"
      },
      "execution_count": null,
      "outputs": [
        {
          "output_type": "stream",
          "name": "stdout",
          "text": [
            "hello\n",
            "welcome user\n"
          ]
        }
      ]
    },
    {
      "cell_type": "markdown",
      "source": [
        "47 another demo for special variable\n",
        "if we are having two modules in a project ex:demo.py and calc.py\n",
        "in demo.py if we define  functions\n",
        "from the main function we call all other functions present under the main function\n",
        "in calc.py\n",
        "def(add):\n",
        "if we r importing calc in demo then we should write\n",
        "from calc import add\n",
        "def fun1():\n",
        "add()\n",
        "  print(\"from fun1\")\n",
        "def fun2():\n",
        "  print(\"from fun2\")\n",
        "def main():\n",
        "  fun1()\n",
        "  fun2()\n",
        "main()\n",
        "\n",
        "\n"
      ],
      "metadata": {
        "id": "6NNxRDFuanoa"
      }
    },
    {
      "cell_type": "code",
      "source": [
        "def fun1():\n",
        "  print(\"from fun1\")\n",
        "def fun2():\n",
        "  print(\"from fun2\")\n",
        "fun1()\n",
        "fun2()"
      ],
      "metadata": {
        "colab": {
          "base_uri": "https://localhost:8080/"
        },
        "id": "wCZxmHaObPcw",
        "outputId": "f57c65ad-8584-4750-bdae-9636588d907d"
      },
      "execution_count": null,
      "outputs": [
        {
          "output_type": "stream",
          "name": "stdout",
          "text": [
            "from fun1\n",
            "from fun2\n"
          ]
        }
      ]
    },
    {
      "cell_type": "code",
      "source": [
        "def fun1():\n",
        "  print(\"from fun1\")\n",
        "def fun2():\n",
        "  print(\"from fun2\")\n",
        "def main():\n",
        "  fun1()\n",
        "  fun2()\n",
        "main()"
      ],
      "metadata": {
        "colab": {
          "base_uri": "https://localhost:8080/"
        },
        "id": "rrU3CvX8eddu",
        "outputId": "cc20e535-59e6-4800-8280-0ff9a69417a7"
      },
      "execution_count": null,
      "outputs": [
        {
          "output_type": "stream",
          "name": "stdout",
          "text": [
            "from fun1\n",
            "from fun2\n"
          ]
        }
      ]
    },
    {
      "cell_type": "code",
      "source": [
        "def add():\n",
        "  print(\"result 1 is\")\n",
        "def sub():\n",
        "  print(\"result 2 is\")\n",
        "def main():\n",
        "  add()\n",
        "  sub()\n",
        "main()"
      ],
      "metadata": {
        "colab": {
          "base_uri": "https://localhost:8080/"
        },
        "id": "DWtmZ6SefFV5",
        "outputId": "ca07817a-301e-4459-f705-427bba448ee7"
      },
      "execution_count": null,
      "outputs": [
        {
          "output_type": "stream",
          "name": "stdout",
          "text": [
            "result 1 is\n",
            "result 2 is\n"
          ]
        }
      ]
    },
    {
      "cell_type": "code",
      "source": [
        "def add():\n",
        "  print(\"result 1 is\", __name__)\n",
        "def sub():\n",
        "  print(\"result 2 is\")\n",
        "def main():\n",
        "  print(\"in calc main\")\n",
        "  add()\n",
        "  sub()\n",
        "if __name__ == \" __main__\":\n",
        "  main()\n"
      ],
      "metadata": {
        "id": "1wGD_h2ggyuR"
      },
      "execution_count": null,
      "outputs": []
    }
  ]
}