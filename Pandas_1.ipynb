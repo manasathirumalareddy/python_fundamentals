{
  "nbformat": 4,
  "nbformat_minor": 0,
  "metadata": {
    "colab": {
      "provenance": [],
      "authorship_tag": "ABX9TyMnXScvHfOPRD8vMsNfrnXr",
      "include_colab_link": true
    },
    "kernelspec": {
      "name": "python3",
      "display_name": "Python 3"
    },
    "language_info": {
      "name": "python"
    }
  },
  "cells": [
    {
      "cell_type": "markdown",
      "metadata": {
        "id": "view-in-github",
        "colab_type": "text"
      },
      "source": [
        "<a href=\"https://colab.research.google.com/github/manasathirumalareddy/python_fundamentals/blob/main/Pandas_1.ipynb\" target=\"_parent\"><img src=\"https://colab.research.google.com/assets/colab-badge.svg\" alt=\"Open In Colab\"/></a>"
      ]
    },
    {
      "cell_type": "markdown",
      "source": [
        "\n",
        "\n",
        "**`set_option`** in Python, particularly in the context of Pandas, is a function used to configure various display options for DataFrames. When you use **`set_option`**, you can customize the way DataFrames are presented, such as setting the maximum number of columns to be displayed, controlling the precision of floating-point numbers, and more. This function allows you to tailor the display of DataFrames to suit your preferences or the requirements of a particular analysis or visualization."
      ],
      "metadata": {
        "id": "l0KlqHBiNo3b"
      }
    },
    {
      "cell_type": "code",
      "source": [
        "import pandas as pd\n",
        "\n",
        "# Create a sample DataFrame\n",
        "data = {'A': [1, 2, 3], 'B': [4, 5, 6], 'C': [7, 8, 9]}\n",
        "df = pd.DataFrame(data)\n",
        "\n",
        "# Set the maximum number of columns to be displayed\n",
        "pd.set_option('display.max_columns', 2)\n",
        "\n",
        "# Now, when you print the DataFrame, only a maximum of 2 columns will be displayed\n",
        "print(df)\n"
      ],
      "metadata": {
        "colab": {
          "base_uri": "https://localhost:8080/"
        },
        "id": "iB3tN5EARZnM",
        "outputId": "4e2d20a7-0a5d-4e38-dfed-5d2280c1d77b"
      },
      "execution_count": null,
      "outputs": [
        {
          "output_type": "stream",
          "name": "stdout",
          "text": [
            "   A  B  C\n",
            "0  1  4  7\n",
            "1  2  5  8\n",
            "2  3  6  9\n"
          ]
        }
      ]
    },
    {
      "cell_type": "markdown",
      "source": [
        "df.head()gives first 5 rows\n",
        "df.tail()gives last five rows\n"
      ],
      "metadata": {
        "id": "IcINof2JVc7G"
      }
    }
  ]
}