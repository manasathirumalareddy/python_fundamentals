{
  "nbformat": 4,
  "nbformat_minor": 0,
  "metadata": {
    "colab": {
      "provenance": [],
      "authorship_tag": "ABX9TyNXdLMPFym6E00J9p2fLRVV",
      "include_colab_link": true
    },
    "kernelspec": {
      "name": "python3",
      "display_name": "Python 3"
    },
    "language_info": {
      "name": "python"
    }
  },
  "cells": [
    {
      "cell_type": "markdown",
      "metadata": {
        "id": "view-in-github",
        "colab_type": "text"
      },
      "source": [
        "<a href=\"https://colab.research.google.com/github/manasathirumalareddy/manasathirumalareddy/blob/main/class_7%2C8%2C9.ipynb\" target=\"_parent\"><img src=\"https://colab.research.google.com/assets/colab-badge.svg\" alt=\"Open In Colab\"/></a>"
      ]
    },
    {
      "cell_type": "markdown",
      "source": [
        "class 7 python set path in windows in command prompt and Help.\n",
        "class 8 python in sublime (sublime text is downloaded in system)"
      ],
      "metadata": {
        "id": "xejHgBsaHVLr"
      }
    },
    {
      "cell_type": "markdown",
      "source": [
        "# class 9 more on variables\n",
        "num=5 we can get id of the num by id(num)\n",
        "name = 'manasa'id(name)\n",
        "a=10,b=a id (a),id(b),we get same address.if multiple variables have same data they point to the same box of the address.python is more memory efficient.\n",
        "id(10),address is based on th3 box itselfi.e.,value. if k=10 then id(10)will give same address\n",
        "GARBAGE COLLECTION(if the value is not used by any variable). CONSTANT is not maintained in python.TYPE ex PI=3.14 type(PI) will get class 'float' .int,float are inbuilt types."
      ],
      "metadata": {
        "id": "sC7K1hGoSRV_"
      }
    },
    {
      "cell_type": "code",
      "source": [
        "num = 5\n",
        "id(num)"
      ],
      "metadata": {
        "colab": {
          "base_uri": "https://localhost:8080/"
        },
        "id": "vxo1w4AeV9CD",
        "outputId": "7a209ce2-6819-4d3f-a835-b08469eb7652"
      },
      "execution_count": null,
      "outputs": [
        {
          "output_type": "execute_result",
          "data": {
            "text/plain": [
              "133277984047472"
            ]
          },
          "metadata": {},
          "execution_count": 1
        }
      ]
    },
    {
      "cell_type": "code",
      "source": [
        "name = 'manasa'\n",
        "id(name)"
      ],
      "metadata": {
        "colab": {
          "base_uri": "https://localhost:8080/"
        },
        "id": "JHqnbJ-GWIHZ",
        "outputId": "b78927dd-1a5a-467a-d9bc-d227a5a8c9ed"
      },
      "execution_count": null,
      "outputs": [
        {
          "output_type": "execute_result",
          "data": {
            "text/plain": [
              "133277281550512"
            ]
          },
          "metadata": {},
          "execution_count": 2
        }
      ]
    },
    {
      "cell_type": "code",
      "source": [
        "a = 20\n",
        "b = a\n",
        "id (a)"
      ],
      "metadata": {
        "colab": {
          "base_uri": "https://localhost:8080/"
        },
        "id": "nELGbbB7WPwj",
        "outputId": "43b1f3c2-0427-423f-ebe6-82601192c572"
      },
      "execution_count": null,
      "outputs": [
        {
          "output_type": "execute_result",
          "data": {
            "text/plain": [
              "133277984047952"
            ]
          },
          "metadata": {},
          "execution_count": 3
        }
      ]
    },
    {
      "cell_type": "code",
      "source": [
        "a = 20\n",
        "b = a\n",
        "id (b)"
      ],
      "metadata": {
        "colab": {
          "base_uri": "https://localhost:8080/"
        },
        "id": "-d8mFw1cWZkc",
        "outputId": "f420b8bb-37b2-4e13-a7fb-6e737bdd8491"
      },
      "execution_count": null,
      "outputs": [
        {
          "output_type": "execute_result",
          "data": {
            "text/plain": [
              "133277984047952"
            ]
          },
          "metadata": {},
          "execution_count": 4
        }
      ]
    },
    {
      "cell_type": "code",
      "source": [
        "a = 20\n",
        "b = a\n",
        "b = 10\n",
        "id(b)"
      ],
      "metadata": {
        "colab": {
          "base_uri": "https://localhost:8080/"
        },
        "id": "EASR3HkNWhYw",
        "outputId": "b498fea9-d967-4484-9b1a-bf6126357bed"
      },
      "execution_count": null,
      "outputs": [
        {
          "output_type": "execute_result",
          "data": {
            "text/plain": [
              "133277984047632"
            ]
          },
          "metadata": {},
          "execution_count": 5
        }
      ]
    },
    {
      "cell_type": "code",
      "source": [
        "PI = 3.14\n",
        "id(PI)"
      ],
      "metadata": {
        "colab": {
          "base_uri": "https://localhost:8080/"
        },
        "id": "0JdXnQRLW2qG",
        "outputId": "000d93c8-902c-4695-9ce9-8f881e954e5c"
      },
      "execution_count": null,
      "outputs": [
        {
          "output_type": "execute_result",
          "data": {
            "text/plain": [
              "133276722560304"
            ]
          },
          "metadata": {},
          "execution_count": 6
        }
      ]
    },
    {
      "cell_type": "code",
      "source": [
        "PI = 3.14\n",
        "id(PI)\n",
        "PI = 3.15\n",
        "id (PI)"
      ],
      "metadata": {
        "colab": {
          "base_uri": "https://localhost:8080/"
        },
        "id": "MVVEjj-GW86D",
        "outputId": "34b5aa27-62d8-48f1-b587-d0a6c30bdc14"
      },
      "execution_count": null,
      "outputs": [
        {
          "output_type": "execute_result",
          "data": {
            "text/plain": [
              "133276715009168"
            ]
          },
          "metadata": {},
          "execution_count": 7
        }
      ]
    }
  ]
}