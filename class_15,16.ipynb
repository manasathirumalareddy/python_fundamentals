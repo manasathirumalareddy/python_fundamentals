{
  "nbformat": 4,
  "nbformat_minor": 0,
  "metadata": {
    "colab": {
      "provenance": [],
      "authorship_tag": "ABX9TyNC2hsePyrHmDF6fYy2YJ3U",
      "include_colab_link": true
    },
    "kernelspec": {
      "name": "python3",
      "display_name": "Python 3"
    },
    "language_info": {
      "name": "python"
    }
  },
  "cells": [
    {
      "cell_type": "markdown",
      "metadata": {
        "id": "view-in-github",
        "colab_type": "text"
      },
      "source": [
        "<a href=\"https://colab.research.google.com/github/manasathirumalareddy/python_fundamentals/blob/main/class_15%2C16.ipynb\" target=\"_parent\"><img src=\"https://colab.research.google.com/assets/colab-badge.svg\" alt=\"Open In Colab\"/></a>"
      ]
    },
    {
      "cell_type": "markdown",
      "source": [
        "\n",
        "\n",
        "# class 15 Bitwise operators(complement ~,And &,Or |,XOR ^,Left shift <<,Right shift >>).\n",
        "complement also called tilde operator.\n",
        "ex:~12 is -13.complement means reverse ~1 is 0 and ~0 is 1.now 12 in bin is 00001100 complement of 12 is 11110011. two's complement is used to convert negative numbers into positive number to store the value. to find two's complement we should find one's complement(1s complement+1) formula is used 13 bin is 00001101 if we reverse this number we get one's complement i.e.,11110010 + 1 will give 11110011.\n",
        " +      1\n",
        " this is 2's complement of 13 which is -13.bitwise and operator for 12 & 13 we get 12 bcz in and both are 1 then only it will give 1 bin of 12 is 00001100\n",
        "                       13 is 00001101\n",
        "                             00001100.\n",
        "bit wise or operator for 12|13 is 13\n",
        "bin of 12 is 00001100\n",
        "bin of 13 is 00001101\n",
        "             00001101.\n",
        "XOR operator 0 0 gives 0\n",
        "             0 1 gives 1\n",
        "             1 0 gives 1\n",
        "             1 1 gives 0\n",
        "odd number of 1 will give 1. even numbers of 1 will give 0.if both the numbers are same will go for 0, diff numbers will go for 1.XOR for 12 ^ 13 is 1. 12 is 00001100\n",
        "   13 is 00001101\n",
        "12^13 is 00000001.left  shift: 00001010\n",
        "1010.000 will shift  to left hand side(gaining of bits) if it is shifted by 2 bits will give 101000.is 40\n",
        "right shift: losing bits 1010 rightside 10 bits is loosing then it gives 10 is 2\n",
        "\n",
        "\n",
        "\n",
        "\n",
        "\n",
        "\n",
        "\n"
      ],
      "metadata": {
        "id": "L2nry15wPPmE"
      }
    },
    {
      "cell_type": "code",
      "source": [
        "~12"
      ],
      "metadata": {
        "colab": {
          "base_uri": "https://localhost:8080/"
        },
        "id": "ltYEsK-NQ_HL",
        "outputId": "f09c84f8-4e2b-4bed-dfb7-fa0112a811a6"
      },
      "execution_count": null,
      "outputs": [
        {
          "output_type": "execute_result",
          "data": {
            "text/plain": [
              "-13"
            ]
          },
          "metadata": {},
          "execution_count": 1
        }
      ]
    },
    {
      "cell_type": "code",
      "source": [
        "12&13"
      ],
      "metadata": {
        "colab": {
          "base_uri": "https://localhost:8080/"
        },
        "id": "_oEOvfCrXKry",
        "outputId": "27408bab-5bc6-4e51-d3b8-074cd6793795"
      },
      "execution_count": null,
      "outputs": [
        {
          "output_type": "execute_result",
          "data": {
            "text/plain": [
              "12"
            ]
          },
          "metadata": {},
          "execution_count": 2
        }
      ]
    },
    {
      "cell_type": "code",
      "source": [
        "12|13"
      ],
      "metadata": {
        "colab": {
          "base_uri": "https://localhost:8080/"
        },
        "id": "wfDYWFksZ04j",
        "outputId": "c3ace7a5-b966-46f4-efed-9ec7f510be31"
      },
      "execution_count": null,
      "outputs": [
        {
          "output_type": "execute_result",
          "data": {
            "text/plain": [
              "13"
            ]
          },
          "metadata": {},
          "execution_count": 3
        }
      ]
    },
    {
      "cell_type": "code",
      "source": [
        "12^13"
      ],
      "metadata": {
        "colab": {
          "base_uri": "https://localhost:8080/"
        },
        "id": "1BNbsQ9sZ4xt",
        "outputId": "0b9cc8ec-87fe-4ad4-e00a-9604f9e2776e"
      },
      "execution_count": null,
      "outputs": [
        {
          "output_type": "execute_result",
          "data": {
            "text/plain": [
              "1"
            ]
          },
          "metadata": {},
          "execution_count": 4
        }
      ]
    },
    {
      "cell_type": "code",
      "source": [
        "10<<2"
      ],
      "metadata": {
        "colab": {
          "base_uri": "https://localhost:8080/"
        },
        "id": "QcMT5C6Aac9j",
        "outputId": "5f548016-3601-419f-822d-87ba1662dead"
      },
      "execution_count": null,
      "outputs": [
        {
          "output_type": "execute_result",
          "data": {
            "text/plain": [
              "40"
            ]
          },
          "metadata": {},
          "execution_count": 5
        }
      ]
    },
    {
      "cell_type": "code",
      "source": [
        "10>>2"
      ],
      "metadata": {
        "colab": {
          "base_uri": "https://localhost:8080/"
        },
        "id": "01EETYF4cAUc",
        "outputId": "2d81d10c-8523-406a-f691-d9263a8c95d8"
      },
      "execution_count": null,
      "outputs": [
        {
          "output_type": "execute_result",
          "data": {
            "text/plain": [
              "2"
            ]
          },
          "metadata": {},
          "execution_count": 6
        }
      ]
    },
    {
      "cell_type": "markdown",
      "source": [
        "# class16 import math functions\n",
        "math is a module in which we have functions we have to import the math to find out square root like that.float function is also applied for ex 2.4 we get 2 and 2.8 we get 3 ,2 is floor and 3 is ceil if we type ceil(2.1)it will give 3 , if we type floor(2.9)we get 2.we can also find factorial,sin x ,cos x,power.constants like pi,epslon e.alice is used for short function like math we can type as m.\n"
      ],
      "metadata": {
        "id": "c7Ji_RTFG6Qg"
      }
    },
    {
      "cell_type": "code",
      "source": [
        "import math\n",
        "x = math.sqrt(25)\n",
        "x"
      ],
      "metadata": {
        "colab": {
          "base_uri": "https://localhost:8080/"
        },
        "id": "H8ehSG-OIDPs",
        "outputId": "a50c4e4f-3c24-42e9-edb1-22f0350cc0ee"
      },
      "execution_count": null,
      "outputs": [
        {
          "output_type": "execute_result",
          "data": {
            "text/plain": [
              "5.0"
            ]
          },
          "metadata": {},
          "execution_count": 2
        }
      ]
    },
    {
      "cell_type": "code",
      "source": [
        "print(math.floor(2.9))"
      ],
      "metadata": {
        "colab": {
          "base_uri": "https://localhost:8080/"
        },
        "id": "AXBUdx1fI75l",
        "outputId": "808468f2-3c47-4208-b522-ef60b0a3f939"
      },
      "execution_count": null,
      "outputs": [
        {
          "output_type": "stream",
          "name": "stdout",
          "text": [
            "2\n"
          ]
        }
      ]
    },
    {
      "cell_type": "code",
      "source": [
        "print(math.ceil(2.1))"
      ],
      "metadata": {
        "colab": {
          "base_uri": "https://localhost:8080/"
        },
        "id": "Pn8rnHpoJYWY",
        "outputId": "026fcb3f-44d5-4379-82b6-afdc5121b7fe"
      },
      "execution_count": null,
      "outputs": [
        {
          "output_type": "stream",
          "name": "stdout",
          "text": [
            "3\n"
          ]
        }
      ]
    },
    {
      "cell_type": "code",
      "source": [
        "print(math.pow(3,2))"
      ],
      "metadata": {
        "colab": {
          "base_uri": "https://localhost:8080/"
        },
        "id": "ax31dxPsJwTq",
        "outputId": "30c1e995-4b88-497d-df8c-286a4b8d15a3"
      },
      "execution_count": null,
      "outputs": [
        {
          "output_type": "stream",
          "name": "stdout",
          "text": [
            "9.0\n"
          ]
        }
      ]
    },
    {
      "cell_type": "code",
      "source": [
        "print(math.pi)"
      ],
      "metadata": {
        "colab": {
          "base_uri": "https://localhost:8080/"
        },
        "id": "oPdYL8sYKGb2",
        "outputId": "318a54bd-828f-4cf1-fefc-1fbe7ffc55a5"
      },
      "execution_count": null,
      "outputs": [
        {
          "output_type": "stream",
          "name": "stdout",
          "text": [
            "3.141592653589793\n"
          ]
        }
      ]
    },
    {
      "cell_type": "code",
      "source": [
        "print(math.e)"
      ],
      "metadata": {
        "colab": {
          "base_uri": "https://localhost:8080/"
        },
        "id": "2okKepuYKKTk",
        "outputId": "9f68c7ab-f6fb-4bd6-db7c-000febfd9c2e"
      },
      "execution_count": null,
      "outputs": [
        {
          "output_type": "stream",
          "name": "stdout",
          "text": [
            "2.718281828459045\n"
          ]
        }
      ]
    },
    {
      "cell_type": "code",
      "source": [
        "import math as m\n",
        "m.sqrt(25)"
      ],
      "metadata": {
        "colab": {
          "base_uri": "https://localhost:8080/"
        },
        "id": "SO2gqKsgKbsG",
        "outputId": "6d3ae23c-2bcf-4fa4-de65-a35127786712"
      },
      "execution_count": null,
      "outputs": [
        {
          "output_type": "execute_result",
          "data": {
            "text/plain": [
              "5.0"
            ]
          },
          "metadata": {},
          "execution_count": 10
        }
      ]
    },
    {
      "cell_type": "code",
      "source": [
        "from math import sqrt,pow\n",
        "pow(4,5)"
      ],
      "metadata": {
        "colab": {
          "base_uri": "https://localhost:8080/"
        },
        "id": "hu-R0eS-LMH5",
        "outputId": "d80d0a9d-1a0e-4a1f-d60c-0e005dcc2700"
      },
      "execution_count": null,
      "outputs": [
        {
          "output_type": "execute_result",
          "data": {
            "text/plain": [
              "1024.0"
            ]
          },
          "metadata": {},
          "execution_count": 11
        }
      ]
    }
  ]
}