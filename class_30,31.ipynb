{
  "nbformat": 4,
  "nbformat_minor": 0,
  "metadata": {
    "colab": {
      "provenance": [],
      "authorship_tag": "ABX9TyNfoDzxoxiUWag1oefLhJsr",
      "include_colab_link": true
    },
    "kernelspec": {
      "name": "python3",
      "display_name": "Python 3"
    },
    "language_info": {
      "name": "python"
    }
  },
  "cells": [
    {
      "cell_type": "markdown",
      "metadata": {
        "id": "view-in-github",
        "colab_type": "text"
      },
      "source": [
        "<a href=\"https://colab.research.google.com/github/manasathirumalareddy/python_fundamentals/blob/main/class_30%2C31.ipynb\" target=\"_parent\"><img src=\"https://colab.research.google.com/assets/colab-badge.svg\" alt=\"Open In Colab\"/></a>"
      ]
    },
    {
      "cell_type": "markdown",
      "source": [
        "# class 30 copying a array in python:array addition,aliasing,shallow copy ,deep copy\n",
        "vectorised operations to add 2 arrays.we can find sin,cos,sqrt,sum,min,max,sort,unique of the array.we can concatenate the values in array that is mixing the values into one array.aliasing happens whenever one variable's value is assigned to another variable.view() is a function used to create a new array the address will be different.shallow copy means it will copy the elements,and both are dependent on each other.deep copy means 2 different arrays and not linked to each other in any way. view means shallow copy,copy means deep copy will be implemented.\n",
        "\n"
      ],
      "metadata": {
        "id": "9JN0uga1w3_u"
      }
    },
    {
      "cell_type": "code",
      "source": [
        "from numpy import *\n",
        "arr1 = array([1,3,5,6])\n",
        "print(cos(arr1))\n"
      ],
      "metadata": {
        "colab": {
          "base_uri": "https://localhost:8080/"
        },
        "id": "K_0HrslFylNr",
        "outputId": "bbfb2ba4-f879-416b-befa-c9fbe1c8c6b7"
      },
      "execution_count": null,
      "outputs": [
        {
          "output_type": "stream",
          "name": "stdout",
          "text": [
            "[ 0.54030231 -0.9899925   0.28366219  0.96017029]\n"
          ]
        }
      ]
    },
    {
      "cell_type": "code",
      "source": [
        "from numpy import *\n",
        "arr1 = array([1,3,5,6])\n",
        "print(sqrt(arr1))\n"
      ],
      "metadata": {
        "colab": {
          "base_uri": "https://localhost:8080/"
        },
        "id": "VWOUnIw_y_h9",
        "outputId": "1335299d-6ce2-486d-dd42-cf548acb2e34"
      },
      "execution_count": null,
      "outputs": [
        {
          "output_type": "stream",
          "name": "stdout",
          "text": [
            "[1.         1.73205081 2.23606798 2.44948974]\n"
          ]
        }
      ]
    },
    {
      "cell_type": "code",
      "source": [
        "from numpy import *\n",
        "arr1 = array([1,9,3,5,6])\n",
        "print(sort(arr1))\n"
      ],
      "metadata": {
        "colab": {
          "base_uri": "https://localhost:8080/"
        },
        "id": "RpjzxChUzXXA",
        "outputId": "26037795-8f3c-4948-b554-2357733927fb"
      },
      "execution_count": null,
      "outputs": [
        {
          "output_type": "stream",
          "name": "stdout",
          "text": [
            "[1 3 5 6 9]\n"
          ]
        }
      ]
    },
    {
      "cell_type": "code",
      "source": [
        "from numpy import *\n",
        "arr1 = array([3,2,6,8,7])\n",
        "arr2 = array([3,5,7,8,9])\n",
        "print(concatenate([arr1,arr2]))"
      ],
      "metadata": {
        "colab": {
          "base_uri": "https://localhost:8080/"
        },
        "id": "EvcqqRQzzzrw",
        "outputId": "a575b998-d365-42cf-fd2c-654d9669fe42"
      },
      "execution_count": null,
      "outputs": [
        {
          "output_type": "stream",
          "name": "stdout",
          "text": [
            "[3 2 6 8 7 3 5 7 8 9]\n"
          ]
        }
      ]
    },
    {
      "cell_type": "code",
      "source": [
        "from numpy import*\n",
        "arr1 = array([3,5,7,9])\n",
        "arr2 = arr1\n",
        "print(arr1)\n",
        "print(arr2)"
      ],
      "metadata": {
        "colab": {
          "base_uri": "https://localhost:8080/"
        },
        "id": "irsYYdGd0aWO",
        "outputId": "525c8fa0-b2e8-47dc-a243-cc90bdf0c76a"
      },
      "execution_count": null,
      "outputs": [
        {
          "output_type": "stream",
          "name": "stdout",
          "text": [
            "[3 5 7 9]\n",
            "[3 5 7 9]\n"
          ]
        }
      ]
    },
    {
      "cell_type": "code",
      "source": [
        "from numpy import*\n",
        "arr1 = array([3,5,7,9])\n",
        "arr2 = arr1\n",
        "print(arr1)\n",
        "print(arr2)\n",
        "print(id(arr1))\n",
        "print(id(arr2))"
      ],
      "metadata": {
        "colab": {
          "base_uri": "https://localhost:8080/"
        },
        "id": "eo6fm3eI07O3",
        "outputId": "6935ad5f-ce5a-4097-d13f-3832e20329d9"
      },
      "execution_count": null,
      "outputs": [
        {
          "output_type": "stream",
          "name": "stdout",
          "text": [
            "[3 5 7 9]\n",
            "[3 5 7 9]\n",
            "134911433939760\n",
            "134911433939760\n"
          ]
        }
      ]
    },
    {
      "cell_type": "code",
      "source": [
        "from numpy import*\n",
        "arr1 = array([3,5,7,9])\n",
        "arr2 = arr1.view()\n",
        "print(arr1)\n",
        "print(arr2)\n",
        "print(id(arr1))\n",
        "print(id(arr2))"
      ],
      "metadata": {
        "colab": {
          "base_uri": "https://localhost:8080/"
        },
        "id": "GcwYDzyr1kzl",
        "outputId": "cb397550-d9ee-4175-b641-545e3ff5af27"
      },
      "execution_count": null,
      "outputs": [
        {
          "output_type": "stream",
          "name": "stdout",
          "text": [
            "[3 5 7 9]\n",
            "[3 5 7 9]\n",
            "134911433453616\n",
            "134911433953168\n"
          ]
        }
      ]
    },
    {
      "cell_type": "code",
      "source": [
        "from numpy import*\n",
        "arr1 = array([3,5,7,9])\n",
        "arr2 = arr1.view()\n",
        "arr1[1] = 4\n",
        "print(arr1)\n",
        "print(arr2)\n",
        "print(id(arr1))\n",
        "print(id(arr2))"
      ],
      "metadata": {
        "colab": {
          "base_uri": "https://localhost:8080/"
        },
        "id": "QCsWHi2u2lCg",
        "outputId": "3f759f1b-a0cd-411a-e483-23ed7967f9d6"
      },
      "execution_count": null,
      "outputs": [
        {
          "output_type": "stream",
          "name": "stdout",
          "text": [
            "[3 4 7 9]\n",
            "[3 4 7 9]\n",
            "134911433959600\n",
            "134911433962864\n"
          ]
        }
      ]
    },
    {
      "cell_type": "code",
      "source": [
        "from numpy import*\n",
        "arr1 = array([3,5,7,9])\n",
        "arr2 = arr1.copy()\n",
        "arr1[2] = 4\n",
        "print(arr1)\n",
        "print(arr2)\n",
        "print(id(arr1))\n",
        "print(id(arr2))"
      ],
      "metadata": {
        "colab": {
          "base_uri": "https://localhost:8080/"
        },
        "id": "Vf2Di9an3G7L",
        "outputId": "6a586b77-7f85-42a6-a4d5-e0d58f62b05b"
      },
      "execution_count": null,
      "outputs": [
        {
          "output_type": "stream",
          "name": "stdout",
          "text": [
            "[3 5 4 9]\n",
            "[3 5 7 9]\n",
            "134911433735120\n",
            "134911434117776\n"
          ]
        }
      ]
    },
    {
      "cell_type": "markdown",
      "source": [
        "# class 31 working with matrix in python\n",
        "2D array,n.dim gives dimension of the array.shape gives no.of rows & columns.size gives entire block.flatten will give the 2D array in 1D array.from 1D array we can get 2D array by function reshape.matrices\n"
      ],
      "metadata": {
        "id": "AqSCVNACW_G2"
      }
    },
    {
      "cell_type": "code",
      "source": [
        "from numpy import *\n",
        "arr1 = array([\n",
        "                 [2,4,8],\n",
        "                 [3,6,5]\n",
        "\n",
        "              ])\n",
        "arr2 = arr1.flatten()\n",
        "print(arr2)"
      ],
      "metadata": {
        "colab": {
          "base_uri": "https://localhost:8080/"
        },
        "id": "km2Cxu26YRrd",
        "outputId": "b7d85a22-dea0-4625-dd30-fee423c51827"
      },
      "execution_count": null,
      "outputs": [
        {
          "output_type": "stream",
          "name": "stdout",
          "text": [
            "[2 4 8 3 6 5]\n"
          ]
        }
      ]
    },
    {
      "cell_type": "code",
      "source": [
        "from numpy import *\n",
        "arr1 = array([\n",
        "                 [2,4,8,6,8,9],\n",
        "                 [3,6,5,7,9,8]\n",
        "\n",
        "              ])\n",
        "arr2 = arr1.flatten()\n",
        "arr3 = arr2.reshape(3,4)\n",
        "print(arr3)"
      ],
      "metadata": {
        "colab": {
          "base_uri": "https://localhost:8080/"
        },
        "id": "VMFIl64xZHoF",
        "outputId": "78bc36b8-76c3-4cb3-d5bb-b54266f16f1f"
      },
      "execution_count": null,
      "outputs": [
        {
          "output_type": "stream",
          "name": "stdout",
          "text": [
            "[[2 4 8 6]\n",
            " [8 9 3 6]\n",
            " [5 7 9 8]]\n"
          ]
        }
      ]
    },
    {
      "cell_type": "code",
      "source": [
        "from numpy import *\n",
        "arr1 = array([\n",
        "                 [2,4,8,6,8,9],\n",
        "                 [3,6,5,7,9,8]\n",
        "\n",
        "              ])\n",
        "arr2 = arr1.flatten()\n",
        "arr3 = arr2.reshape(2,2,3)\n",
        "print(arr3)"
      ],
      "metadata": {
        "colab": {
          "base_uri": "https://localhost:8080/"
        },
        "id": "RoqqcQ5UZ286",
        "outputId": "dc5ae45f-c592-4cd4-fe8b-9edc9c700647"
      },
      "execution_count": null,
      "outputs": [
        {
          "output_type": "stream",
          "name": "stdout",
          "text": [
            "[[[2 4 8]\n",
            "  [6 8 9]]\n",
            "\n",
            " [[3 6 5]\n",
            "  [7 9 8]]]\n"
          ]
        }
      ]
    },
    {
      "cell_type": "code",
      "source": [
        "from numpy import *\n",
        "arr1 = array([\n",
        "                 [2,4,8,6],\n",
        "                 [3,6,5,8]\n",
        "\n",
        "\n",
        "              ])\n",
        "m = matrix(arr1)\n",
        "\n",
        "print(m)"
      ],
      "metadata": {
        "colab": {
          "base_uri": "https://localhost:8080/"
        },
        "id": "CHtY1aIJasv5",
        "outputId": "9f102606-d2be-4b03-9dcf-713cff54e14b"
      },
      "execution_count": null,
      "outputs": [
        {
          "output_type": "stream",
          "name": "stdout",
          "text": [
            "[[2 4 8 6]\n",
            " [3 6 5 8]]\n"
          ]
        }
      ]
    },
    {
      "cell_type": "code",
      "source": [
        "from numpy import *\n",
        "m = matrix('1 2 3 6 ; 4 5 6 7')\n",
        "print(m)"
      ],
      "metadata": {
        "colab": {
          "base_uri": "https://localhost:8080/"
        },
        "id": "wQi7tq9NbTT8",
        "outputId": "40449acc-da42-415b-8990-644bc3634bd1"
      },
      "execution_count": null,
      "outputs": [
        {
          "output_type": "stream",
          "name": "stdout",
          "text": [
            "[[1 2 3 6]\n",
            " [4 5 6 7]]\n"
          ]
        }
      ]
    },
    {
      "cell_type": "code",
      "source": [
        "from numpy import *\n",
        "m = matrix('1 2; 3 6 ; 4 5; 6 7')\n",
        "print(m)"
      ],
      "metadata": {
        "colab": {
          "base_uri": "https://localhost:8080/"
        },
        "id": "KpLAac44bmQd",
        "outputId": "24495a89-287f-4b60-a069-334b5cd682a4"
      },
      "execution_count": null,
      "outputs": [
        {
          "output_type": "stream",
          "name": "stdout",
          "text": [
            "[[1 2]\n",
            " [3 6]\n",
            " [4 5]\n",
            " [6 7]]\n"
          ]
        }
      ]
    },
    {
      "cell_type": "code",
      "source": [
        "from numpy import *\n",
        "m = matrix('1 2 3 ;6 4 5; 6 7 8')\n",
        "print(m)"
      ],
      "metadata": {
        "colab": {
          "base_uri": "https://localhost:8080/"
        },
        "id": "zsfmUmZvbxS4",
        "outputId": "88ce035b-8797-43bd-bae7-8411c335c918"
      },
      "execution_count": null,
      "outputs": [
        {
          "output_type": "stream",
          "name": "stdout",
          "text": [
            "[[1 2 3]\n",
            " [6 4 5]\n",
            " [6 7 8]]\n"
          ]
        }
      ]
    },
    {
      "cell_type": "code",
      "source": [
        "from numpy import *\n",
        "m = matrix('1 2 3 ;6 4 5; 6 7 8')\n",
        "print(diagonal(m))"
      ],
      "metadata": {
        "colab": {
          "base_uri": "https://localhost:8080/"
        },
        "id": "PIGSUE3qcDoU",
        "outputId": "da4e088b-a423-41d9-a23d-7323f66475cc"
      },
      "execution_count": null,
      "outputs": [
        {
          "output_type": "stream",
          "name": "stdout",
          "text": [
            "[1 4 8]\n"
          ]
        }
      ]
    },
    {
      "cell_type": "code",
      "source": [
        "from numpy import *\n",
        "m = matrix('1 2 3 ;6 4 5; 6 7 8')\n",
        "print(m.min())"
      ],
      "metadata": {
        "colab": {
          "base_uri": "https://localhost:8080/"
        },
        "id": "4SwNiBRNcN7Z",
        "outputId": "d47c855a-dcf9-459a-89f7-62d89c2d1806"
      },
      "execution_count": null,
      "outputs": [
        {
          "output_type": "stream",
          "name": "stdout",
          "text": [
            "1\n"
          ]
        }
      ]
    },
    {
      "cell_type": "code",
      "source": [
        "from numpy import *\n",
        "m = matrix('1 2 3 ;6 4 5; 6 7 8')\n",
        "print(m.max())"
      ],
      "metadata": {
        "colab": {
          "base_uri": "https://localhost:8080/"
        },
        "id": "dnzDyC0wcZYK",
        "outputId": "7602033c-5444-47fb-b33c-a670e7413391"
      },
      "execution_count": null,
      "outputs": [
        {
          "output_type": "stream",
          "name": "stdout",
          "text": [
            "8\n"
          ]
        }
      ]
    },
    {
      "cell_type": "code",
      "source": [
        "from numpy import *\n",
        "m1 = matrix('1 2 3 ;6 4 5; 6 7 8')\n",
        "m2 = matrix('2 4 6 ; 4 6 8; 3 5 9')\n",
        "m3 = m1 + m2\n",
        "\n",
        "print(m3)"
      ],
      "metadata": {
        "colab": {
          "base_uri": "https://localhost:8080/"
        },
        "id": "ZmWs740ac1Cu",
        "outputId": "a3497ca4-e766-4568-df20-4f84e03fb020"
      },
      "execution_count": null,
      "outputs": [
        {
          "output_type": "stream",
          "name": "stdout",
          "text": [
            "[[ 3  6  9]\n",
            " [10 10 13]\n",
            " [ 9 12 17]]\n"
          ]
        }
      ]
    },
    {
      "cell_type": "code",
      "source": [
        "from numpy import *\n",
        "m1 = matrix('1 2 3 ;6 4 5; 6 7 8')\n",
        "m2 = matrix('2 4 6 ; 4 6 8; 3 5 9')\n",
        "m3 = m1 * m2\n",
        "print(m3)\n"
      ],
      "metadata": {
        "colab": {
          "base_uri": "https://localhost:8080/"
        },
        "id": "FwxLXEI4dF-T",
        "outputId": "48331648-a5ce-4457-d88e-5f8cc338e211"
      },
      "execution_count": null,
      "outputs": [
        {
          "output_type": "stream",
          "name": "stdout",
          "text": [
            "[[ 19  31  49]\n",
            " [ 43  73 113]\n",
            " [ 64 106 164]]\n"
          ]
        }
      ]
    }
  ]
}