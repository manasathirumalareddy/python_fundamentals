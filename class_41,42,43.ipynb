{
  "nbformat": 4,
  "nbformat_minor": 0,
  "metadata": {
    "colab": {
      "provenance": [],
      "authorship_tag": "ABX9TyNs6mNZLWfxj5KlKBbDqMhp",
      "include_colab_link": true
    },
    "kernelspec": {
      "name": "python3",
      "display_name": "Python 3"
    },
    "language_info": {
      "name": "python"
    }
  },
  "cells": [
    {
      "cell_type": "markdown",
      "metadata": {
        "id": "view-in-github",
        "colab_type": "text"
      },
      "source": [
        "<a href=\"https://colab.research.google.com/github/manasathirumalareddy/python_fundamentals/blob/main/class_41%2C42%2C43.ipynb\" target=\"_parent\"><img src=\"https://colab.research.google.com/assets/colab-badge.svg\" alt=\"Open In Colab\"/></a>"
      ]
    },
    {
      "cell_type": "markdown",
      "source": [
        "# 41 factorial using recursion n*fact(n-1)\n",
        "fact(5) 5*4!,fact(4) 4*3!,fact(3) 3*2!,fact(2) 2*1!, fact(1) 1*0!,0! = 1\n"
      ],
      "metadata": {
        "id": "hN_7Kx9_UQJq"
      }
    },
    {
      "cell_type": "code",
      "source": [
        "def fact(n):\n",
        "  if n == 0:\n",
        "    return 1\n",
        "\n",
        "  return n * fact(n-1)\n",
        "result = fact(5)\n",
        "print(result)"
      ],
      "metadata": {
        "colab": {
          "base_uri": "https://localhost:8080/"
        },
        "id": "VVApcWC4UaZ_",
        "outputId": "bc2e92e3-4f62-45f8-802d-3e7c26fb155d"
      },
      "execution_count": null,
      "outputs": [
        {
          "output_type": "stream",
          "name": "stdout",
          "text": [
            "120\n"
          ]
        }
      ]
    },
    {
      "cell_type": "markdown",
      "source": [
        "# 42 anonymous function lambda\n",
        "A function without a function name is known as an Anonymous function.\n",
        "- Anonymous function is called a lambda function.We have to use the lambda keyword to directly define the function in one line.\n",
        "- We need to store the lambda function in a variable as the function is also an object.We have to use the lambda keyword to directly define the function in one line.\n",
        "- We need to store the lambda function in a variable as the function is also an object."
      ],
      "metadata": {
        "id": "OXXWUNubWVIU"
      }
    },
    {
      "cell_type": "code",
      "source": [
        "def square(a):\n",
        "  return a*a\n",
        "result = square(5)\n",
        "print(result)"
      ],
      "metadata": {
        "colab": {
          "base_uri": "https://localhost:8080/"
        },
        "id": "0bROffofWxQh",
        "outputId": "e1f6332e-d40f-4926-84de-80c6fbf78bcc"
      },
      "execution_count": null,
      "outputs": [
        {
          "output_type": "stream",
          "name": "stdout",
          "text": [
            "25\n"
          ]
        }
      ]
    },
    {
      "cell_type": "code",
      "source": [
        "f = lambda a : a*a\n",
        "result = f(5)\n",
        "print(result)"
      ],
      "metadata": {
        "colab": {
          "base_uri": "https://localhost:8080/"
        },
        "id": "rUTqB9fNXKgn",
        "outputId": "c1a172bc-595b-4a2f-dfef-741232c75858"
      },
      "execution_count": null,
      "outputs": [
        {
          "output_type": "stream",
          "name": "stdout",
          "text": [
            "25\n"
          ]
        }
      ]
    },
    {
      "cell_type": "code",
      "source": [
        "f = lambda a,b : a+b\n",
        "result = f(5,6)\n",
        "print(result)"
      ],
      "metadata": {
        "colab": {
          "base_uri": "https://localhost:8080/"
        },
        "id": "EIi48nySYNSa",
        "outputId": "dd094bd0-fc13-4e3e-e2f5-3b0e4273255f"
      },
      "execution_count": null,
      "outputs": [
        {
          "output_type": "stream",
          "name": "stdout",
          "text": [
            "11\n"
          ]
        }
      ]
    },
    {
      "cell_type": "markdown",
      "source": [
        "# class 43 filter,map,reduce\n",
        "filter take two arguments which is function,iterable.map : it takes the value and apply some operation and then we can reduce.map takes 2 arguments (function,iterable).reduce belongs to the module called function tools. reduce also takes 2 things function,sequence."
      ],
      "metadata": {
        "id": "amMwNCPI0fB9"
      }
    },
    {
      "cell_type": "code",
      "source": [
        "def is_even(n):\n",
        "  return n%2==0\n",
        "nums = [3,4,6,7,8,9,4,1,2]\n",
        "evens = list(filter(is_even,nums))\n",
        "print(evens)"
      ],
      "metadata": {
        "colab": {
          "base_uri": "https://localhost:8080/"
        },
        "id": "Qme1vH1z04DU",
        "outputId": "b49020cd-3664-4107-bd9c-39a82d849c6c"
      },
      "execution_count": null,
      "outputs": [
        {
          "output_type": "stream",
          "name": "stdout",
          "text": [
            "[4, 6, 8, 4, 2]\n"
          ]
        }
      ]
    },
    {
      "cell_type": "code",
      "source": [
        "nums = [3,4,6,7,8,9,4,1,2]\n",
        "evens = list(filter(lambda n : n%2==0,nums))\n",
        "print(evens)"
      ],
      "metadata": {
        "colab": {
          "base_uri": "https://localhost:8080/"
        },
        "id": "JzJhWYNY2ulA",
        "outputId": "e0581a8d-f103-414c-899e-a76ef16ad56b"
      },
      "execution_count": null,
      "outputs": [
        {
          "output_type": "stream",
          "name": "stdout",
          "text": [
            "[4, 6, 8, 4, 2]\n"
          ]
        }
      ]
    },
    {
      "cell_type": "code",
      "source": [
        "nums = [3,4,6,7,8,9,4,1,2]\n",
        "evens = list(filter(lambda n : n%2==0,nums))\n",
        "doubles = list(map(lambda n : n*2,evens))\n",
        "print(doubles)"
      ],
      "metadata": {
        "colab": {
          "base_uri": "https://localhost:8080/"
        },
        "id": "X03ZOva14Fzs",
        "outputId": "6933aa19-d9e7-493f-b178-ae1523fa31e4"
      },
      "execution_count": null,
      "outputs": [
        {
          "output_type": "stream",
          "name": "stdout",
          "text": [
            "[8, 12, 16, 8, 4]\n"
          ]
        }
      ]
    },
    {
      "cell_type": "code",
      "source": [
        "from functools import reduce\n",
        "def add_all(a,b):\n",
        "  return a+b\n",
        "nums = [3,4,6,7,8,9,4,1,2]\n",
        "evens = list(filter(lambda n : n%2==0,nums))\n",
        "doubles = list(map(lambda n : n*2,evens))\n",
        "sum = reduce(add_all,doubles)\n",
        "\n",
        "\n",
        "print(sum)"
      ],
      "metadata": {
        "colab": {
          "base_uri": "https://localhost:8080/"
        },
        "id": "z1dRSyjn5RRH",
        "outputId": "d6add12d-cc3a-4fac-a853-07888a32e8a6"
      },
      "execution_count": null,
      "outputs": [
        {
          "output_type": "stream",
          "name": "stdout",
          "text": [
            "48\n"
          ]
        }
      ]
    },
    {
      "cell_type": "code",
      "source": [
        "from functools import reduce\n",
        "\n",
        "nums = [3,4,6,7,8,9,4,1,2]\n",
        "evens = list(filter(lambda n : n%2==0,nums))\n",
        "doubles = list(map(lambda n : n*2,evens))\n",
        "print(doubles)\n",
        "sum = reduce(lambda a,b:a+b,doubles)\n",
        "print(sum)"
      ],
      "metadata": {
        "colab": {
          "base_uri": "https://localhost:8080/"
        },
        "id": "skYhowBc61qv",
        "outputId": "beb048dc-ed2f-49a8-9b18-e134e9a4aab7"
      },
      "execution_count": null,
      "outputs": [
        {
          "output_type": "stream",
          "name": "stdout",
          "text": [
            "[8, 12, 16, 8, 4]\n",
            "48\n"
          ]
        }
      ]
    }
  ]
}