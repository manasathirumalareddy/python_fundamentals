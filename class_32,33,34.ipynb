{
  "nbformat": 4,
  "nbformat_minor": 0,
  "metadata": {
    "colab": {
      "provenance": [],
      "authorship_tag": "ABX9TyO1I2twpWVk9VxCYoEOC2Eb",
      "include_colab_link": true
    },
    "kernelspec": {
      "name": "python3",
      "display_name": "Python 3"
    },
    "language_info": {
      "name": "python"
    }
  },
  "cells": [
    {
      "cell_type": "markdown",
      "metadata": {
        "id": "view-in-github",
        "colab_type": "text"
      },
      "source": [
        "<a href=\"https://colab.research.google.com/github/manasathirumalareddy/python_fundamentals/blob/main/class_32%2C33%2C34.ipynb\" target=\"_parent\"><img src=\"https://colab.research.google.com/assets/colab-badge.svg\" alt=\"Open In Colab\"/></a>"
      ]
    },
    {
      "cell_type": "markdown",
      "source": [
        "# class 32 functions\n",
        "in function we should follow the syntax def and a function name with ()and a semi colon:only if u call a function it will give u output u can call the function many times when ever u want.u can create multiple functions and we can call as many times we want.function has 2 types it will perform the task and will return the value something.we should use return .the value save in a module called result.from one function we can return multilpe values like add and sub.function is a block ehere u will have one task . separate function has separate task."
      ],
      "metadata": {
        "id": "YU5x6utblK-7"
      }
    },
    {
      "cell_type": "code",
      "source": [
        "def greet():\n",
        "  print(\"hello\")\n",
        "  print(\"good morning\")\n",
        "greet()"
      ],
      "metadata": {
        "colab": {
          "base_uri": "https://localhost:8080/"
        },
        "id": "oUR80R59mccZ",
        "outputId": "95f518ec-2085-4ae5-cf7e-28537e29e427"
      },
      "execution_count": null,
      "outputs": [
        {
          "output_type": "stream",
          "name": "stdout",
          "text": [
            "hello\n",
            "good morning\n"
          ]
        }
      ]
    },
    {
      "cell_type": "code",
      "source": [
        "def add_numbers():\n",
        "  print(\"mansi\")\n",
        "add_numbers()"
      ],
      "metadata": {
        "colab": {
          "base_uri": "https://localhost:8080/"
        },
        "id": "QpNia-6dm_WN",
        "outputId": "63ea2378-1de4-4ceb-a7c7-5732707ce0ec"
      },
      "execution_count": null,
      "outputs": [
        {
          "output_type": "stream",
          "name": "stdout",
          "text": [
            "mansi\n"
          ]
        }
      ]
    },
    {
      "cell_type": "code",
      "source": [
        "def add(x,y):\n",
        "  c = x+y\n",
        "  print(c)\n",
        "add(5,4)"
      ],
      "metadata": {
        "colab": {
          "base_uri": "https://localhost:8080/"
        },
        "id": "tfoxG6AZpFjX",
        "outputId": "e51d5b7c-dec5-4fe2-baa2-1dc768631129"
      },
      "execution_count": null,
      "outputs": [
        {
          "output_type": "stream",
          "name": "stdout",
          "text": [
            "9\n"
          ]
        }
      ]
    },
    {
      "cell_type": "code",
      "source": [
        "def add(x,y):\n",
        "  c = x+y\n",
        "  return c\n",
        "\n",
        "result = add(5,4)\n",
        "print(result)\n",
        "\n"
      ],
      "metadata": {
        "colab": {
          "base_uri": "https://localhost:8080/"
        },
        "id": "VXugWLdfqHPW",
        "outputId": "d89d7782-33e6-42f5-876e-68b9b45f1090"
      },
      "execution_count": null,
      "outputs": [
        {
          "output_type": "stream",
          "name": "stdout",
          "text": [
            "9\n"
          ]
        }
      ]
    },
    {
      "cell_type": "code",
      "source": [
        "def add_sub(x,y):\n",
        "  c = x+y\n",
        "  d = x-y\n",
        "  return c,d\n",
        "result1,result2 = add_sub(5,4)\n",
        "print(result1,result2)"
      ],
      "metadata": {
        "colab": {
          "base_uri": "https://localhost:8080/"
        },
        "id": "ddLWovaQrEaL",
        "outputId": "c82e4325-55b5-4dd3-9a50-2464c7af504f"
      },
      "execution_count": null,
      "outputs": [
        {
          "output_type": "stream",
          "name": "stdout",
          "text": [
            "9 1\n"
          ]
        }
      ]
    },
    {
      "cell_type": "markdown",
      "source": [
        "# class 33 function arguments(mutable,immutable)\n",
        "pass by value and pass by reference means passing the address\n",
        "\n"
      ],
      "metadata": {
        "id": "97hjbw_TRNfl"
      }
    },
    {
      "cell_type": "code",
      "source": [
        "def update(x):\n",
        "  x = 8\n",
        "  print(x)\n",
        "update(10)"
      ],
      "metadata": {
        "colab": {
          "base_uri": "https://localhost:8080/"
        },
        "id": "q8W91_0sTmzm",
        "outputId": "36c63ed8-c806-4156-ba3a-e6288e669425"
      },
      "execution_count": null,
      "outputs": [
        {
          "output_type": "stream",
          "name": "stdout",
          "text": [
            "8\n"
          ]
        }
      ]
    },
    {
      "cell_type": "code",
      "source": [
        "def update(x):\n",
        "  x = 8\n",
        "  print(\"x\",x)\n",
        "\n",
        "a = 10\n",
        "update(10)\n",
        "print(\"a\",a)"
      ],
      "metadata": {
        "colab": {
          "base_uri": "https://localhost:8080/"
        },
        "id": "rfDMFH-_T5bt",
        "outputId": "7a76b33d-5286-492e-a67b-b4de576c2b27"
      },
      "execution_count": null,
      "outputs": [
        {
          "output_type": "stream",
          "name": "stdout",
          "text": [
            "x 8\n",
            "a 10\n"
          ]
        }
      ]
    },
    {
      "cell_type": "code",
      "source": [
        "def update(x):\n",
        "  print(id(x))\n",
        "  x = 8\n",
        "  print(\"x\",x)\n",
        "\n",
        "a = 10\n",
        "print(id(a))     a 10 x 10\n",
        "update(10)\n",
        "print(\"a\",a)"
      ],
      "metadata": {
        "colab": {
          "base_uri": "https://localhost:8080/"
        },
        "id": "lUYB4IoLUl39",
        "outputId": "ad9ad997-a0cb-461e-b53b-bb0dc54a0754"
      },
      "execution_count": null,
      "outputs": [
        {
          "output_type": "stream",
          "name": "stdout",
          "text": [
            "135368663581200\n",
            "135368663581200\n",
            "x 8\n",
            "a 10\n"
          ]
        }
      ]
    },
    {
      "cell_type": "code",
      "source": [
        "def update(x):\n",
        "  print(id(x))\n",
        "  x = 8\n",
        "  print(id(x))\n",
        "  print(\"x\",x)\n",
        "\n",
        "a = 10\n",
        "print(id(a))\n",
        "update(10)                 a 10 x 8\n",
        "print(\"a\",a)"
      ],
      "metadata": {
        "colab": {
          "base_uri": "https://localhost:8080/"
        },
        "id": "dAy_r85fVBUa",
        "outputId": "f5ba7fe9-c87c-494e-9abc-2c7f2046f2d5"
      },
      "execution_count": null,
      "outputs": [
        {
          "output_type": "stream",
          "name": "stdout",
          "text": [
            "135368663581200\n",
            "135368663581200\n",
            "135368663581136\n",
            "x 8\n",
            "a 10\n"
          ]
        }
      ]
    },
    {
      "cell_type": "code",
      "source": [
        "def update(lst):\n",
        "  print(id(lst))\n",
        "  lst[1] = 8\n",
        "  print(id(lst))\n",
        "  print(\"lst\",lst)\n",
        "\n",
        "lst = [10,20,30]\n",
        "print(id(lst))\n",
        "update(lst)\n",
        "print(\"lst\",lst)"
      ],
      "metadata": {
        "colab": {
          "base_uri": "https://localhost:8080/"
        },
        "id": "373aeBiVV5us",
        "outputId": "20406e2a-8543-4cd4-fae4-f5a3955ff40d"
      },
      "execution_count": null,
      "outputs": [
        {
          "output_type": "stream",
          "name": "stdout",
          "text": [
            "135367623851008\n",
            "135367623851008\n",
            "135367623851008\n",
            "lst [10, 8, 30]\n",
            "lst [10, 8, 30]\n"
          ]
        }
      ]
    },
    {
      "cell_type": "markdown",
      "source": [
        "# class 34 types of arguments\n",
        "formal arguments which are a,b and actual arguments are 5,6.actual arguments are 4 types position,keyword,default,,variable length.keyword means mentionin a variable name like age=24,name=manasa.if you are not passing a value it will take default value.varible length in which first parameter is fixed and the remaining can be more than 1 then we should give *b.\n"
      ],
      "metadata": {
        "id": "y0RWcpdlWxCD"
      }
    },
    {
      "cell_type": "code",
      "source": [
        "def add(a,b):\n",
        "  c = a+b\n",
        "  print(c)\n",
        "add(5,6)"
      ],
      "metadata": {
        "colab": {
          "base_uri": "https://localhost:8080/"
        },
        "id": "CmvXSxrf_FxU",
        "outputId": "3c73a919-11e7-454c-e53e-8b2a6b5d9464"
      },
      "execution_count": null,
      "outputs": [
        {
          "output_type": "stream",
          "name": "stdout",
          "text": [
            "11\n"
          ]
        }
      ]
    },
    {
      "cell_type": "code",
      "source": [
        "def person(name,age):\n",
        "  print(name)\n",
        "  print(age)\n",
        "person('manasa',24)"
      ],
      "metadata": {
        "colab": {
          "base_uri": "https://localhost:8080/"
        },
        "id": "NC-7X_XnjLUr",
        "outputId": "39781fbf-b42b-4057-df9f-ed1cfac07944"
      },
      "execution_count": null,
      "outputs": [
        {
          "output_type": "stream",
          "name": "stdout",
          "text": [
            "manasa\n",
            "24\n"
          ]
        }
      ]
    },
    {
      "cell_type": "code",
      "source": [
        "def person(name,age):\n",
        "  print(name)\n",
        "  print(age)\n",
        "person(age=24,name='manasa')"
      ],
      "metadata": {
        "colab": {
          "base_uri": "https://localhost:8080/"
        },
        "id": "3_e_bp03jysu",
        "outputId": "77e73159-4fd9-4b23-9b75-6cd7a9c4dee9"
      },
      "execution_count": null,
      "outputs": [
        {
          "output_type": "stream",
          "name": "stdout",
          "text": [
            "manasa\n",
            "24\n"
          ]
        }
      ]
    },
    {
      "cell_type": "code",
      "source": [
        "def person(name,age=18):\n",
        "  print(name)\n",
        "  print(age)\n",
        "person('manasa')"
      ],
      "metadata": {
        "colab": {
          "base_uri": "https://localhost:8080/"
        },
        "id": "brcqzSkwkVi3",
        "outputId": "12fc6c03-cbdd-423e-8a25-9ea7be3588f0"
      },
      "execution_count": null,
      "outputs": [
        {
          "output_type": "stream",
          "name": "stdout",
          "text": [
            "manasa\n",
            "18\n"
          ]
        }
      ]
    },
    {
      "cell_type": "code",
      "source": [
        "def person(name,age=18):\n",
        "  print(name)\n",
        "  print(age)\n",
        "person('manasa',24)"
      ],
      "metadata": {
        "colab": {
          "base_uri": "https://localhost:8080/"
        },
        "id": "I-70z4MEklI0",
        "outputId": "a59c0d9d-9b41-43fa-d53f-542ef7470d3b"
      },
      "execution_count": null,
      "outputs": [
        {
          "output_type": "stream",
          "name": "stdout",
          "text": [
            "manasa\n",
            "24\n"
          ]
        }
      ]
    },
    {
      "cell_type": "code",
      "source": [
        "def sum(a,b):\n",
        "  c = a+b\n",
        "  print(c)\n",
        "sum(3,5)"
      ],
      "metadata": {
        "colab": {
          "base_uri": "https://localhost:8080/"
        },
        "id": "zqWf2irrkvI4",
        "outputId": "2c6ef375-c31d-44a2-ae74-98445c311cfb"
      },
      "execution_count": null,
      "outputs": [
        {
          "output_type": "stream",
          "name": "stdout",
          "text": [
            "8\n"
          ]
        }
      ]
    },
    {
      "cell_type": "code",
      "source": [
        "def sum(a,*b):\n",
        "  c = a\n",
        "  for i in b:\n",
        "    c = c + i\n",
        "  print(c)\n",
        "\n",
        "sum(3,5,56,78)"
      ],
      "metadata": {
        "colab": {
          "base_uri": "https://localhost:8080/"
        },
        "id": "iw0z3k3nlUEv",
        "outputId": "b306bca9-4a9d-410c-8bef-bbf0ff7e16cc"
      },
      "execution_count": null,
      "outputs": [
        {
          "output_type": "stream",
          "name": "stdout",
          "text": [
            "142\n"
          ]
        }
      ]
    },
    {
      "cell_type": "code",
      "source": [
        "def sum(a,*b):\n",
        "  print(a)\n",
        "  print(b)\n",
        "sum(4,5,67,68)"
      ],
      "metadata": {
        "colab": {
          "base_uri": "https://localhost:8080/"
        },
        "id": "oAs-uHAFli8f",
        "outputId": "24af44af-9857-4627-a3d3-c5adc10b53ba"
      },
      "execution_count": null,
      "outputs": [
        {
          "output_type": "stream",
          "name": "stdout",
          "text": [
            "4\n",
            "(5, 67, 68)\n"
          ]
        }
      ]
    },
    {
      "cell_type": "code",
      "source": [
        "def sum(*b):\n",
        "  c = 0\n",
        "  for i in b:\n",
        "    c = c + i\n",
        "  print(c)\n",
        "\n",
        "sum(3,5,56,78)"
      ],
      "metadata": {
        "colab": {
          "base_uri": "https://localhost:8080/"
        },
        "id": "k4d563hxmUVZ",
        "outputId": "2420a9bd-3aad-4a36-e69b-bd7e41244d49"
      },
      "execution_count": null,
      "outputs": [
        {
          "output_type": "stream",
          "name": "stdout",
          "text": [
            "142\n"
          ]
        }
      ]
    }
  ]
}