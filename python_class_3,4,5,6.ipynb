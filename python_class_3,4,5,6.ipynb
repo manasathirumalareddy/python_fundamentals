{
  "nbformat": 4,
  "nbformat_minor": 0,
  "metadata": {
    "colab": {
      "provenance": [],
      "include_colab_link": true
    },
    "kernelspec": {
      "name": "python3",
      "display_name": "Python 3"
    },
    "language_info": {
      "name": "python"
    }
  },
  "cells": [
    {
      "cell_type": "markdown",
      "metadata": {
        "id": "view-in-github",
        "colab_type": "text"
      },
      "source": [
        "<a href=\"https://colab.research.google.com/github/manasathirumalareddy/manasathirumalareddy/blob/main/python_class_3%2C4%2C5%2C6.ipynb\" target=\"_parent\"><img src=\"https://colab.research.google.com/assets/colab-badge.svg\" alt=\"Open In Colab\"/></a>"
      ]
    },
    {
      "cell_type": "markdown",
      "source": [
        "# class 3 operators\n",
        "2.0\n",
        "2 integers\n",
        ".0 float value\n",
        "5//2 double slash will give integer value\n",
        "** power\n",
        "(2+3)*3\n",
        "brackets will add then multipy\n",
        "% module will give reminder value 10/3 will give 1\n",
        "string (combination of characters) in single or double coats\n",
        "function print is inbuilt\n",
        "\\ will remove the single coat in string\n",
        "10 * name it will give name 10 times\n",
        "\\n has special meanining means new line\n",
        "raw string (r)used not to convert into new line\n"
      ],
      "metadata": {
        "id": "0BneoTUebr9W"
      }
    },
    {
      "cell_type": "code",
      "source": [
        "2+3"
      ],
      "metadata": {
        "colab": {
          "base_uri": "https://localhost:8080/"
        },
        "id": "VG4HpU8DeeAK",
        "outputId": "de41d271-0236-4dc1-a692-fabbf9b7bbe9"
      },
      "execution_count": null,
      "outputs": [
        {
          "output_type": "execute_result",
          "data": {
            "text/plain": [
              "5"
            ]
          },
          "metadata": {},
          "execution_count": 1
        }
      ]
    },
    {
      "cell_type": "code",
      "source": [
        "10*3"
      ],
      "metadata": {
        "colab": {
          "base_uri": "https://localhost:8080/"
        },
        "id": "o20QO1DdcqIJ",
        "outputId": "bc4077de-bc88-4226-c574-0fc56c48475c"
      },
      "execution_count": null,
      "outputs": [
        {
          "output_type": "execute_result",
          "data": {
            "text/plain": [
              "30"
            ]
          },
          "metadata": {},
          "execution_count": 3
        }
      ]
    },
    {
      "cell_type": "code",
      "source": [
        "7//2\n",
        "print('navin\\'s \"laptop\"')"
      ],
      "metadata": {
        "colab": {
          "base_uri": "https://localhost:8080/"
        },
        "id": "xl_Ti0GDe51L",
        "outputId": "2a729ce0-c1f1-4d26-89f7-7bae2e64e17e"
      },
      "execution_count": null,
      "outputs": [
        {
          "output_type": "stream",
          "name": "stdout",
          "text": [
            "navin's \"laptop\"\n"
          ]
        }
      ]
    },
    {
      "cell_type": "code",
      "source": [
        "print(r'c:\\docs\\navin')"
      ],
      "metadata": {
        "colab": {
          "base_uri": "https://localhost:8080/"
        },
        "id": "JDEfdjkqfcfA",
        "outputId": "cea1c015-b590-4d4c-fd33-18f4576ca9ec"
      },
      "execution_count": null,
      "outputs": [
        {
          "output_type": "stream",
          "name": "stdout",
          "text": [
            "c:\\docs\\navin\n"
          ]
        }
      ]
    },
    {
      "cell_type": "code",
      "source": [
        "print('c:\\docs\\navin')"
      ],
      "metadata": {
        "colab": {
          "base_uri": "https://localhost:8080/"
        },
        "id": "suVhpuGofxVQ",
        "outputId": "9f77962d-9f4f-4c0a-a34c-47cf8556067c"
      },
      "execution_count": null,
      "outputs": [
        {
          "output_type": "stream",
          "name": "stdout",
          "text": [
            "c:\\docs\n",
            "avin\n"
          ]
        }
      ]
    },
    {
      "cell_type": "markdown",
      "source": [
        "# class 4 : **variables**\n",
        "variable is a container where we used to store value.\n",
        "x=2.\n",
        "underscore _is used to use the output of the previous operation\n",
        "ex 19 is the previous output _ + y = 19+y.\n",
        "string variable name = 'youtube'[YOUTUBE]0123456,name[0] gives 'y'.name[-1]gives 'e'.when we give -num it will start from right to left from last.name[0:2] gives'yo'[1;4]gives'out'.\n",
        "strings in python is immutable[cannot be changed]\n",
        "length is the inbuilt function we can know the length of string ex:myname = 'navin reddy' len(myname) ans 11"
      ],
      "metadata": {
        "id": "NUvIobLx7EP8"
      }
    },
    {
      "cell_type": "code",
      "source": [
        "myname = 'divya manasa'\n",
        "len(myname)"
      ],
      "metadata": {
        "colab": {
          "base_uri": "https://localhost:8080/"
        },
        "id": "fx8aApaS_r5Q",
        "outputId": "1844f71c-566c-4e40-8705-1726b769bca1"
      },
      "execution_count": null,
      "outputs": [
        {
          "output_type": "execute_result",
          "data": {
            "text/plain": [
              "12"
            ]
          },
          "metadata": {},
          "execution_count": 1
        }
      ]
    },
    {
      "cell_type": "code",
      "source": [
        "x=2\n",
        "y=5\n",
        "x+y\n",
        "_+5"
      ],
      "metadata": {
        "colab": {
          "base_uri": "https://localhost:8080/"
        },
        "id": "hbHm11BeAPuV",
        "outputId": "ecc98bf6-9b0b-4771-c6f4-99c0fd53d935"
      },
      "execution_count": null,
      "outputs": [
        {
          "output_type": "execute_result",
          "data": {
            "text/plain": [
              "12"
            ]
          },
          "metadata": {},
          "execution_count": 5
        }
      ]
    },
    {
      "cell_type": "code",
      "source": [
        "name = 'youtube'\n",
        "name[0]\n",
        "name[6]\n",
        "name[0:4]\n",
        "\n"
      ],
      "metadata": {
        "colab": {
          "base_uri": "https://localhost:8080/",
          "height": 35
        },
        "id": "kQI4i__NAo96",
        "outputId": "8b8e2c74-706b-42e6-b950-6fccf437e848"
      },
      "execution_count": null,
      "outputs": [
        {
          "output_type": "execute_result",
          "data": {
            "text/plain": [
              "'yout'"
            ],
            "application/vnd.google.colaboratory.intrinsic+json": {
              "type": "string"
            }
          },
          "metadata": {},
          "execution_count": 11
        }
      ]
    },
    {
      "cell_type": "code",
      "source": [
        "name = 'youtube'\n",
        "name[-1]"
      ],
      "metadata": {
        "colab": {
          "base_uri": "https://localhost:8080/",
          "height": 35
        },
        "id": "46hkmiWFA8bR",
        "outputId": "57bcea0a-e4aa-4420-fafe-a1acf0755bb3"
      },
      "execution_count": null,
      "outputs": [
        {
          "output_type": "execute_result",
          "data": {
            "text/plain": [
              "'e'"
            ],
            "application/vnd.google.colaboratory.intrinsic+json": {
              "type": "string"
            }
          },
          "metadata": {},
          "execution_count": 12
        }
      ]
    },
    {
      "cell_type": "markdown",
      "source": [
        "# class 5 list\n",
        "square brackets nums=[25,45,76,87] nums[0]=25,nums[2]=76,nums[-1]=87.\n",
        "names=['manasa','vamsi','mansi']\n",
        "values=[9.5,'manasa',25] we can have integers,string,float in list.\n",
        "mil = [nums,names].list is mutable.\n",
        "list has append which add value at last,pop to remove the value(1\n",
        "),nums.insert(2,77)77 was addes in number 2 (25,45,77,76,87),remove(76),will get(25,45,77,87),pop() if any index number is not given it will remove the vslue from the last.del nums [2:] (25,45)nums.extend to add multiple values[29,12,14,36][25,45,29,12,14,36]\n",
        "min(nums) 12\n",
        "max(nums)45,nums.sort it will sorted"
      ],
      "metadata": {
        "id": "qERq5IiaDOl_"
      }
    },
    {
      "cell_type": "code",
      "source": [
        "nums = [25,65,87,56]\n",
        "nums\n",
        "names = ['manasa']\n",
        "names\n",
        "mil = [nums,names]\n",
        "mil\n"
      ],
      "metadata": {
        "colab": {
          "base_uri": "https://localhost:8080/"
        },
        "id": "i7bQGFIcFRxb",
        "outputId": "f18a20ac-4a27-4216-da75-f8c8daeb15f6"
      },
      "execution_count": null,
      "outputs": [
        {
          "output_type": "execute_result",
          "data": {
            "text/plain": [
              "[[25, 65, 87, 56], ['manasa']]"
            ]
          },
          "metadata": {},
          "execution_count": 21
        }
      ]
    },
    {
      "cell_type": "code",
      "source": [
        "nums = [32,35,67,68,32]\n",
        "nums"
      ],
      "metadata": {
        "colab": {
          "base_uri": "https://localhost:8080/"
        },
        "id": "-X28D2DPSSjR",
        "outputId": "7da8f46a-1123-445a-bee4-12f7a998017d"
      },
      "execution_count": null,
      "outputs": [
        {
          "output_type": "execute_result",
          "data": {
            "text/plain": [
              "[32, 35, 67, 68, 32]"
            ]
          },
          "metadata": {},
          "execution_count": 5
        }
      ]
    },
    {
      "cell_type": "code",
      "source": [
        "nums=[57,97,67]\n",
        "nums.sort\n",
        "nums"
      ],
      "metadata": {
        "colab": {
          "base_uri": "https://localhost:8080/"
        },
        "id": "UPgXcdSCGitr",
        "outputId": "a0412d88-4c56-45b8-c731-6e4db0ea670f"
      },
      "execution_count": null,
      "outputs": [
        {
          "output_type": "execute_result",
          "data": {
            "text/plain": [
              "[57, 97, 67]"
            ]
          },
          "metadata": {},
          "execution_count": 25
        }
      ]
    },
    {
      "cell_type": "markdown",
      "source": [
        "# class 6 tuple ,set\n",
        "tuple is immutable , count and index.count gives the number repeated how many times.tuple uses round brackets.\n",
        "set:collection of elements.curly brackets\n",
        "in set there is no proper sequence.index number is not supported due to no proper sequence.it will not support duplicate value if the number is repeated it give only once.set has unique values\n"
      ],
      "metadata": {
        "id": "avSuok1-Oqr6"
      }
    },
    {
      "cell_type": "code",
      "source": [
        "tup = (21,36,14,25)\n",
        "tup\n"
      ],
      "metadata": {
        "colab": {
          "base_uri": "https://localhost:8080/"
        },
        "id": "n3FyYCYNPCeU",
        "outputId": "e321ab4c-45cc-4a56-ddf5-102de7485bc2"
      },
      "execution_count": null,
      "outputs": [
        {
          "output_type": "execute_result",
          "data": {
            "text/plain": [
              "(21, 36, 14, 25)"
            ]
          },
          "metadata": {},
          "execution_count": 1
        }
      ]
    },
    {
      "cell_type": "code",
      "source": [
        "tup = (25,36,87,57)\n",
        "tup[1]"
      ],
      "metadata": {
        "colab": {
          "base_uri": "https://localhost:8080/"
        },
        "id": "AOVReaopPdme",
        "outputId": "a9b4098d-30d0-4eb0-831f-d5dd3cf5f653"
      },
      "execution_count": null,
      "outputs": [
        {
          "output_type": "execute_result",
          "data": {
            "text/plain": [
              "36"
            ]
          },
          "metadata": {},
          "execution_count": 2
        }
      ]
    },
    {
      "cell_type": "code",
      "source": [
        "s={34,57,56,86}\n",
        "s"
      ],
      "metadata": {
        "colab": {
          "base_uri": "https://localhost:8080/"
        },
        "id": "uetW0cRPQxOy",
        "outputId": "f6be9bcf-7078-4433-d2cb-75986023f1bc"
      },
      "execution_count": null,
      "outputs": [
        {
          "output_type": "execute_result",
          "data": {
            "text/plain": [
              "{34, 56, 57, 86}"
            ]
          },
          "metadata": {},
          "execution_count": 3
        }
      ]
    },
    {
      "cell_type": "code",
      "source": [
        "s={56,78,23,67,56}\n",
        "s"
      ],
      "metadata": {
        "colab": {
          "base_uri": "https://localhost:8080/"
        },
        "id": "CdyT8Ul0RRJq",
        "outputId": "a254ab17-310f-4e61-c02e-2f59d2b11dca"
      },
      "execution_count": null,
      "outputs": [
        {
          "output_type": "execute_result",
          "data": {
            "text/plain": [
              "{23, 56, 67, 78}"
            ]
          },
          "metadata": {},
          "execution_count": 4
        }
      ]
    },
    {
      "cell_type": "markdown",
      "source": [
        "# class 7 Dictionary\n",
        "curly brackets,data is dictionary\n",
        "we should use key should be immutable&unique we can use string or nums and value\n",
        "data = {1:'manasa',2:'vamsi',4:'mansi'}\n",
        "ex we can take list or set\n",
        "list is taken as example\n",
        "keys=['manasa','vamsi','mansi']\n",
        "values=['thirumala','venna','thirnna']\n",
        "data = dict((zip(keys,values)).we can create list in dictionary and dictionary in a dictionary by prog.\n",
        "\n",
        "\n",
        "\n",
        "\n"
      ],
      "metadata": {
        "id": "51QLm51ETK80"
      }
    },
    {
      "cell_type": "code",
      "source": [
        "data ={1:'manasa',2:'vamsi',4:'mansi'}\n",
        "data[2]"
      ],
      "metadata": {
        "colab": {
          "base_uri": "https://localhost:8080/",
          "height": 35
        },
        "id": "Y_KpS2wGWUjJ",
        "outputId": "ee852452-f517-4b2e-98af-863d34fc6106"
      },
      "execution_count": null,
      "outputs": [
        {
          "output_type": "execute_result",
          "data": {
            "text/plain": [
              "'vamsi'"
            ],
            "application/vnd.google.colaboratory.intrinsic+json": {
              "type": "string"
            }
          },
          "metadata": {},
          "execution_count": 7
        }
      ]
    },
    {
      "cell_type": "code",
      "source": [
        "data = {1:'manasa',2:'vamsi',4:'mansi'}\n",
        "data.get(1)\n",
        "data.get(3,'not found')"
      ],
      "metadata": {
        "colab": {
          "base_uri": "https://localhost:8080/",
          "height": 35
        },
        "id": "4B11nT73XWcb",
        "outputId": "00e21d95-65d0-4c96-b9d4-a10e447e4e0f"
      },
      "execution_count": null,
      "outputs": [
        {
          "output_type": "execute_result",
          "data": {
            "text/plain": [
              "'not found'"
            ],
            "application/vnd.google.colaboratory.intrinsic+json": {
              "type": "string"
            }
          },
          "metadata": {},
          "execution_count": 10
        }
      ]
    },
    {
      "cell_type": "code",
      "source": [
        "keys=['manasa','vamsi','mansi']\n",
        "values=['thirumala','venna','thirnna']\n",
        "data = dict(zip(keys,values))\n",
        "data\n"
      ],
      "metadata": {
        "colab": {
          "base_uri": "https://localhost:8080/"
        },
        "id": "2NCYE-GQZOHQ",
        "outputId": "83d17bf8-d708-4088-e20a-5f705d3dcf65"
      },
      "execution_count": null,
      "outputs": [
        {
          "output_type": "execute_result",
          "data": {
            "text/plain": [
              "{'manasa': 'thirumala', 'vamsi': 'venna', 'mansi': 'thirnna'}"
            ]
          },
          "metadata": {},
          "execution_count": 11
        }
      ]
    },
    {
      "cell_type": "code",
      "source": [
        "keys=['manasa','vamsi','mansi']\n",
        "values=['thirumala','venna','thirnna']\n",
        "data = dict(zip(keys,values))\n",
        "data['monika']= 'pathi'\n",
        "data"
      ],
      "metadata": {
        "colab": {
          "base_uri": "https://localhost:8080/"
        },
        "id": "AOHUD35zaNP1",
        "outputId": "bc5608bd-20fd-456e-baf8-c6648317c8a0"
      },
      "execution_count": null,
      "outputs": [
        {
          "output_type": "execute_result",
          "data": {
            "text/plain": [
              "{'manasa': 'thirumala',\n",
              " 'vamsi': 'venna',\n",
              " 'mansi': 'thirnna',\n",
              " 'monika': 'pathi'}"
            ]
          },
          "metadata": {},
          "execution_count": 2
        }
      ]
    },
    {
      "cell_type": "code",
      "source": [
        "prog = {'JS':'atom','cs':'vs','python':['pycharm','sublime'],'java':{'JSE':'netbeans','JEE':'eclipse'}}\n",
        "prog"
      ],
      "metadata": {
        "colab": {
          "base_uri": "https://localhost:8080/"
        },
        "id": "UjsU373xpIaY",
        "outputId": "d3304342-fa7a-4f5a-b15b-ca5ab40a4674"
      },
      "execution_count": null,
      "outputs": [
        {
          "output_type": "execute_result",
          "data": {
            "text/plain": [
              "{'JS': 'atom',\n",
              " 'cs': 'vs',\n",
              " 'python': ['pycharm', 'sublime'],\n",
              " 'java': {'JSE': 'netbeans', 'JEE': 'eclipse'}}"
            ]
          },
          "metadata": {},
          "execution_count": 15
        }
      ]
    },
    {
      "cell_type": "code",
      "source": [
        "prog = {'JS':'atom','cs':'vs','python':['pycharm','sublime'],'java':{'JSE':'netbeans','JEE':'eclipse'}}\n",
        "prog['python']"
      ],
      "metadata": {
        "colab": {
          "base_uri": "https://localhost:8080/"
        },
        "id": "VUnwbyHoqdb8",
        "outputId": "fedbca54-ba79-4958-8686-e8945ead495a"
      },
      "execution_count": null,
      "outputs": [
        {
          "output_type": "execute_result",
          "data": {
            "text/plain": [
              "['pycharm', 'sublime']"
            ]
          },
          "metadata": {},
          "execution_count": 16
        }
      ]
    }
  ]
}