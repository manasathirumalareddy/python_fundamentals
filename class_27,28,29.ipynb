{
  "nbformat": 4,
  "nbformat_minor": 0,
  "metadata": {
    "colab": {
      "provenance": [],
      "authorship_tag": "ABX9TyPjuyDlNZDLimqiIHE5qlSw",
      "include_colab_link": true
    },
    "kernelspec": {
      "name": "python3",
      "display_name": "Python 3"
    },
    "language_info": {
      "name": "python"
    }
  },
  "cells": [
    {
      "cell_type": "markdown",
      "metadata": {
        "id": "view-in-github",
        "colab_type": "text"
      },
      "source": [
        "<a href=\"https://colab.research.google.com/github/manasathirumalareddy/python_fundamentals/blob/main/class_27%2C28%2C29.ipynb\" target=\"_parent\"><img src=\"https://colab.research.google.com/assets/colab-badge.svg\" alt=\"Open In Colab\"/></a>"
      ]
    },
    {
      "cell_type": "markdown",
      "source": [
        "# class 27 user input in array search element\n"
      ],
      "metadata": {
        "id": "XMCdxHI1532A"
      }
    },
    {
      "cell_type": "code",
      "source": [
        "from array import *\n",
        "arr = array('i',[])\n",
        "n = int(input(\"enter the length of array\"))\n",
        "for i in range(n):\n",
        "  x = int(input(\"enter the next value\"))\n",
        "  arr.append(x)\n",
        "print(arr)"
      ],
      "metadata": {
        "colab": {
          "base_uri": "https://localhost:8080/"
        },
        "id": "42E5A3e-6IgM",
        "outputId": "bc094e0d-76f0-49e0-b0ab-b1fb5f26bc2f"
      },
      "execution_count": null,
      "outputs": [
        {
          "output_type": "stream",
          "name": "stdout",
          "text": [
            "enter the length of array4\n",
            "enter the next value12\n",
            "enter the next value3\n",
            "enter the next value8\n",
            "enter the next value9\n",
            "array('i', [12, 3, 8, 9])\n"
          ]
        }
      ]
    },
    {
      "cell_type": "code",
      "source": [
        "from array import *\n",
        "arr = array('i',[])\n",
        "n = int(input(\"enter the length of array\"))\n",
        "for i in range(n):\n",
        "  x = int(input(\"enter the next value\"))\n",
        "  arr.append(x)\n",
        "print(arr)\n",
        "val = int(input(\"enter the value for search\"))\n",
        "k = 0\n",
        "for e in arr:\n",
        "  if e==val:\n",
        "    print(k)\n",
        "    break\n",
        "  k+=1"
      ],
      "metadata": {
        "colab": {
          "base_uri": "https://localhost:8080/"
        },
        "id": "m83cepMK8uZB",
        "outputId": "c7ab4647-4726-435e-9a15-3a5063182b18"
      },
      "execution_count": null,
      "outputs": [
        {
          "output_type": "stream",
          "name": "stdout",
          "text": [
            "enter the length of array4\n",
            "enter the next value34\n",
            "enter the next value36\n",
            "enter the next value87\n",
            "enter the next value65\n",
            "array('i', [34, 36, 87, 65])\n",
            "enter the value for search87\n",
            "2\n"
          ]
        }
      ]
    },
    {
      "cell_type": "code",
      "source": [
        "from array import *\n",
        "arr = array('i',[])\n",
        "n = int(input(\"enter the length of array\"))\n",
        "for i in range(n):\n",
        "  x = int(input(\"enter the next value\"))\n",
        "  arr.append(x)\n",
        "print(arr)\n",
        "val = int(input(\"enter the value for search\"))\n",
        "k = 0\n",
        "for e in arr:\n",
        "  if e==val:\n",
        "    print(k)\n",
        "    break\n",
        "  k+=1\n",
        "print(arr.index(val))"
      ],
      "metadata": {
        "colab": {
          "base_uri": "https://localhost:8080/"
        },
        "id": "sgm3t9Fw9p_0",
        "outputId": "a6e3d1ae-13d7-4a1f-bea6-dafc79f55ac2"
      },
      "execution_count": null,
      "outputs": [
        {
          "output_type": "stream",
          "name": "stdout",
          "text": [
            "enter the length of array4\n",
            "enter the next value234\n",
            "enter the next value567\n",
            "enter the next value897\n",
            "enter the next value654\n",
            "array('i', [234, 567, 897, 654])\n",
            "enter the value for search897\n",
            "2\n",
            "2\n"
          ]
        }
      ]
    },
    {
      "cell_type": "markdown",
      "source": [
        "# class 28 numpy\n",
        "numpy is used to create multidimensional array.from numpy import*"
      ],
      "metadata": {
        "id": "2ZtPO4Eh_IHL"
      }
    },
    {
      "cell_type": "markdown",
      "source": [
        "# class 29 ways of creating arrays in numpy(array(),linspace(),logspace(),arange(),zeros(),ones().\n",
        "function linspace will take 3 parameters start,stop,step.(0,16,10)10 means number of parts divided.break down the value into 10 different parts.if we not mention the value of step it will divide the value into 50 parts by default.\n",
        "**Arange**\n",
        "(1,10,2) here 2 means step difference btw the start and stop.\n",
        "**logspace**\n",
        "in linspace the gap btw 2 values is fixed.in logspace the difference btw 2 values depend on log value\n",
        "\n",
        "\n"
      ],
      "metadata": {
        "id": "jBS-p7RCJQO4"
      }
    },
    {
      "cell_type": "code",
      "source": [
        "from numpy import *\n",
        "arr = array([2,4,5,7])\n",
        "print(arr)"
      ],
      "metadata": {
        "colab": {
          "base_uri": "https://localhost:8080/"
        },
        "id": "QHy41TfwMZrT",
        "outputId": "35bcf96b-1c1b-4eb4-a877-544f6b27052c"
      },
      "execution_count": null,
      "outputs": [
        {
          "output_type": "stream",
          "name": "stdout",
          "text": [
            "[2 4 5 7]\n"
          ]
        }
      ]
    },
    {
      "cell_type": "code",
      "source": [
        "from numpy import *\n",
        "arr = linspace(0,15,16)\n",
        "print(arr)"
      ],
      "metadata": {
        "colab": {
          "base_uri": "https://localhost:8080/"
        },
        "id": "jAx5ooGvNyNL",
        "outputId": "bbc9f588-ed63-434c-8c9d-7bc273e35cd2"
      },
      "execution_count": null,
      "outputs": [
        {
          "output_type": "stream",
          "name": "stdout",
          "text": [
            "[ 0.  1.  2.  3.  4.  5.  6.  7.  8.  9. 10. 11. 12. 13. 14. 15.]\n"
          ]
        }
      ]
    },
    {
      "cell_type": "code",
      "source": [
        "from numpy import *\n",
        "arr = linspace(0,15,20)\n",
        "print(arr)"
      ],
      "metadata": {
        "colab": {
          "base_uri": "https://localhost:8080/"
        },
        "id": "9PTknICJOLS8",
        "outputId": "9d7fd8a7-9708-4d9a-c14d-653bfaa70ea2"
      },
      "execution_count": null,
      "outputs": [
        {
          "output_type": "stream",
          "name": "stdout",
          "text": [
            "[ 0.          0.78947368  1.57894737  2.36842105  3.15789474  3.94736842\n",
            "  4.73684211  5.52631579  6.31578947  7.10526316  7.89473684  8.68421053\n",
            "  9.47368421 10.26315789 11.05263158 11.84210526 12.63157895 13.42105263\n",
            " 14.21052632 15.        ]\n"
          ]
        }
      ]
    },
    {
      "cell_type": "code",
      "source": [
        "from numpy import *\n",
        "arr = linspace(0,15)\n",
        "print(arr)"
      ],
      "metadata": {
        "colab": {
          "base_uri": "https://localhost:8080/"
        },
        "id": "xPB3JbbvOfjU",
        "outputId": "687f8dbd-356f-4074-9c6d-39a37a1d517b"
      },
      "execution_count": null,
      "outputs": [
        {
          "output_type": "stream",
          "name": "stdout",
          "text": [
            "[ 0.          0.30612245  0.6122449   0.91836735  1.2244898   1.53061224\n",
            "  1.83673469  2.14285714  2.44897959  2.75510204  3.06122449  3.36734694\n",
            "  3.67346939  3.97959184  4.28571429  4.59183673  4.89795918  5.20408163\n",
            "  5.51020408  5.81632653  6.12244898  6.42857143  6.73469388  7.04081633\n",
            "  7.34693878  7.65306122  7.95918367  8.26530612  8.57142857  8.87755102\n",
            "  9.18367347  9.48979592  9.79591837 10.10204082 10.40816327 10.71428571\n",
            " 11.02040816 11.32653061 11.63265306 11.93877551 12.24489796 12.55102041\n",
            " 12.85714286 13.16326531 13.46938776 13.7755102  14.08163265 14.3877551\n",
            " 14.69387755 15.        ]\n"
          ]
        }
      ]
    },
    {
      "cell_type": "code",
      "source": [
        "from numpy import *\n",
        "arr = arange(1,10,2)\n",
        "print(arr)"
      ],
      "metadata": {
        "colab": {
          "base_uri": "https://localhost:8080/"
        },
        "id": "Kmpgy8egO_2Z",
        "outputId": "0d4c5b5d-4594-4119-b199-f954dd4d5e97"
      },
      "execution_count": null,
      "outputs": [
        {
          "output_type": "stream",
          "name": "stdout",
          "text": [
            "[1 3 5 7 9]\n"
          ]
        }
      ]
    },
    {
      "cell_type": "code",
      "source": [
        "from numpy import *\n",
        "arr = logspace(1,40,5)\n",
        "print(arr)"
      ],
      "metadata": {
        "colab": {
          "base_uri": "https://localhost:8080/"
        },
        "id": "ibuvINwIQll9",
        "outputId": "d2cb3ea9-5121-433d-f89c-80f8eba223e1"
      },
      "execution_count": null,
      "outputs": [
        {
          "output_type": "stream",
          "name": "stdout",
          "text": [
            "[1.00000000e+01 5.62341325e+10 3.16227766e+20 1.77827941e+30\n",
            " 1.00000000e+40]\n"
          ]
        }
      ]
    },
    {
      "cell_type": "code",
      "source": [
        "from numpy import *\n",
        "arr = logspace(1,40,5)\n",
        "print('%.2f' %arr[0])"
      ],
      "metadata": {
        "colab": {
          "base_uri": "https://localhost:8080/"
        },
        "id": "lj0-LnSpQ723",
        "outputId": "9d790aa3-3caa-42fd-c5db-8c97d421219a"
      },
      "execution_count": null,
      "outputs": [
        {
          "output_type": "stream",
          "name": "stdout",
          "text": [
            "10.00\n"
          ]
        }
      ]
    },
    {
      "cell_type": "code",
      "source": [
        "from numpy import *\n",
        "arr = logspace(1,40,5)\n",
        "print('%.2f' %arr[4])"
      ],
      "metadata": {
        "colab": {
          "base_uri": "https://localhost:8080/"
        },
        "id": "PJY_sCijRQR0",
        "outputId": "a2dbf1dc-61e2-466a-d984-04d807e96441"
      },
      "execution_count": null,
      "outputs": [
        {
          "output_type": "stream",
          "name": "stdout",
          "text": [
            "10000000000000000303786028427003666890752.00\n"
          ]
        }
      ]
    },
    {
      "cell_type": "code",
      "source": [
        "from numpy import *\n",
        "arr = zeros(5)\n",
        "print(arr)"
      ],
      "metadata": {
        "colab": {
          "base_uri": "https://localhost:8080/"
        },
        "id": "V2IvYHaLRYX0",
        "outputId": "5a2c6d60-cb0a-4784-e45a-7d550edb2f31"
      },
      "execution_count": null,
      "outputs": [
        {
          "output_type": "stream",
          "name": "stdout",
          "text": [
            "[0. 0. 0. 0. 0.]\n"
          ]
        }
      ]
    },
    {
      "cell_type": "code",
      "source": [
        "from numpy import *\n",
        "arr = ones(5)\n",
        "print(arr)"
      ],
      "metadata": {
        "colab": {
          "base_uri": "https://localhost:8080/"
        },
        "id": "RJICPYEaRpxT",
        "outputId": "894e55ec-8d10-40fb-8739-6b77e3299a5e"
      },
      "execution_count": null,
      "outputs": [
        {
          "output_type": "stream",
          "name": "stdout",
          "text": [
            "[1. 1. 1. 1. 1.]\n"
          ]
        }
      ]
    },
    {
      "cell_type": "code",
      "source": [
        "from numpy import *\n",
        "arr = ones(5,int)\n",
        "print(arr)"
      ],
      "metadata": {
        "id": "vpzKmzvBRxwO",
        "outputId": "b1ff9f56-f0ec-492a-a0da-f24c210e05bb",
        "colab": {
          "base_uri": "https://localhost:8080/"
        }
      },
      "execution_count": null,
      "outputs": [
        {
          "output_type": "stream",
          "name": "stdout",
          "text": [
            "[1 1 1 1 1]\n"
          ]
        }
      ]
    }
  ]
}